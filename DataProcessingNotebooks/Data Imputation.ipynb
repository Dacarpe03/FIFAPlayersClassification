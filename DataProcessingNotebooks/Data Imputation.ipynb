{
 "cells": [
  {
   "cell_type": "markdown",
   "id": "a4988974",
   "metadata": {},
   "source": [
    "# Data imputation"
   ]
  },
  {
   "cell_type": "markdown",
   "id": "28bf4270",
   "metadata": {},
   "source": [
    "This dataset has been downloaded from  Kaggle https://www.kaggle.com/karangadiya/fifa19. License: [CC BY-NC-SA 4.0](https://creativecommons.org/licenses/by-nc-sa/4.0/)"
   ]
  },
  {
   "cell_type": "markdown",
   "id": "2441248e",
   "metadata": {},
   "source": [
    "In this notebook we will do data processing for the dataset, imputing values that are missing based on present data."
   ]
  },
  {
   "cell_type": "markdown",
   "id": "e0f4601d",
   "metadata": {},
   "source": [
    "## Step 1: Import libraries"
   ]
  },
  {
   "cell_type": "code",
   "execution_count": 1,
   "id": "c875efca",
   "metadata": {},
   "outputs": [],
   "source": [
    "import numpy as np\n",
    "import pandas as pd\n",
    "\n",
    "from sklearn.preprocessing import LabelEncoder, OneHotEncoder, minmax_scale, scale\n",
    "\n",
    "import matplotlib.pyplot as plt\n",
    "import seaborn as sns\n",
    "import bokeh as bk"
   ]
  },
  {
   "cell_type": "markdown",
   "id": "6073accf",
   "metadata": {},
   "source": [
    "## Step 2: Load data"
   ]
  },
  {
   "cell_type": "markdown",
   "id": "e28a7975",
   "metadata": {},
   "source": [
    "First, we define where our data is and where we will store the imputated file"
   ]
  },
  {
   "cell_type": "code",
   "execution_count": null,
   "id": "b48d7b7a",
   "metadata": {},
   "outputs": [],
   "source": [
    "DATA = \"../Data\"\n",
    "INPUT_FILE_NAME = f\"{DATA}/FootballPlayerRawDataset.csv\"\n",
    "\n",
    "ATT_FILE_NAME = f\"{DATA}/FootballPlayerPreparedCleanAttributes.csv\"\n",
    "IMPUTED_ATT_FILE_NAME = f\"{DATA}/ImputedFootballPlayerPreparedCleanAttributes.csv\"\n",
    "\n",
    "ONE_HOT_ENCODED_CLASSES_FILE_NAME = f\"{DATA}/FootballPlayerOneHotEncodedClasses.csv\"\n",
    "IMPUTED_ONE_HOT_ENCODED_CLASSES_FILE_NAME = "
   ]
  },
  {
   "cell_type": "code",
   "execution_count": 2,
   "id": "0ee43575",
   "metadata": {},
   "outputs": [
    {
     "ename": "NameError",
     "evalue": "name 'INPUT_FILE_NAME' is not defined",
     "output_type": "error",
     "traceback": [
      "\u001b[1;31m---------------------------------------------------------------------------\u001b[0m",
      "\u001b[1;31mNameError\u001b[0m                                 Traceback (most recent call last)",
      "Cell \u001b[1;32mIn [2], line 1\u001b[0m\n\u001b[1;32m----> 1\u001b[0m dataset \u001b[38;5;241m=\u001b[39m pd\u001b[38;5;241m.\u001b[39mread_csv(\u001b[43mINPUT_FILE_NAME\u001b[49m, sep\u001b[38;5;241m=\u001b[39m\u001b[38;5;124m\"\u001b[39m\u001b[38;5;124m,\u001b[39m\u001b[38;5;124m\"\u001b[39m)\n",
      "\u001b[1;31mNameError\u001b[0m: name 'INPUT_FILE_NAME' is not defined"
     ]
    }
   ],
   "source": [
    "dataset = pd.read_csv(INPUT_FILE_NAME, sep=\",\")"
   ]
  },
  {
   "cell_type": "code",
   "execution_count": null,
   "id": "0d79e4d5",
   "metadata": {},
   "outputs": [],
   "source": []
  }
 ],
 "metadata": {
  "kernelspec": {
   "display_name": "Python 3 (ipykernel)",
   "language": "python",
   "name": "python3"
  },
  "language_info": {
   "codemirror_mode": {
    "name": "ipython",
    "version": 3
   },
   "file_extension": ".py",
   "mimetype": "text/x-python",
   "name": "python",
   "nbconvert_exporter": "python",
   "pygments_lexer": "ipython3",
   "version": "3.10.4"
  }
 },
 "nbformat": 4,
 "nbformat_minor": 5
}
