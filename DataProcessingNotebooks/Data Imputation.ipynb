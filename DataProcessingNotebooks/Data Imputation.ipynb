{
 "cells": [
  {
   "cell_type": "markdown",
   "id": "0f34e608",
   "metadata": {},
   "source": [
    "# Data imputation"
   ]
  },
  {
   "cell_type": "markdown",
   "id": "ed753174",
   "metadata": {},
   "source": [
    "This dataset has been downloaded from  Kaggle https://www.kaggle.com/karangadiya/fifa19. License: [CC BY-NC-SA 4.0](https://creativecommons.org/licenses/by-nc-sa/4.0/)"
   ]
  },
  {
   "cell_type": "markdown",
   "id": "5bbb1fae",
   "metadata": {},
   "source": [
    "In this notebook we will do data processing for the dataset, imputing values that are missing based on present data."
   ]
  },
  {
   "cell_type": "markdown",
   "id": "44857de3",
   "metadata": {},
   "source": [
    "## Step 1: Import libraries"
   ]
  },
  {
   "cell_type": "code",
   "execution_count": 1,
   "id": "1b875333",
   "metadata": {},
   "outputs": [],
   "source": [
    "import numpy as np\n",
    "import pandas as pd\n",
    "\n",
    "from sklearn.preprocessing import LabelEncoder, OneHotEncoder, minmax_scale, scale\n",
    "\n",
    "import matplotlib.pyplot as plt\n",
    "import seaborn as sns\n",
    "import bokeh as bk"
   ]
  },
  {
   "cell_type": "markdown",
   "id": "21c1c9bd",
   "metadata": {},
   "source": [
    "## Step 2: Load data"
   ]
  },
  {
   "cell_type": "markdown",
   "id": "fd656680",
   "metadata": {},
   "source": [
    "First, we define where our data is and where we will store the imputated file"
   ]
  },
  {
   "cell_type": "code",
   "execution_count": 2,
   "id": "3dcf79af",
   "metadata": {},
   "outputs": [],
   "source": [
    "DATA = \"../Data\"\n",
    "INPUT_FILE_NAME = f\"{DATA}/FootballPlayerRawDataset.csv\"\n",
    "\n",
    "ATT_FILE_NAME = f\"{DATA}/FootballPlayerPreparedCleanAttributes.csv\"\n",
    "IMPUTED_ATT_FILE_NAME = f\"{DATA}/ImputedFootballPlayerPreparedCleanAttributes.csv\"\n",
    "\n",
    "ONE_HOT_ENCODED_CLASSES_FILE_NAME = f\"{DATA}/FootballPlayerOneHotEncodedClasses.csv\"\n",
    "IMPUTED_ONE_HOT_ENCODED_CLASSES_FILE_NAME = f\"{DATA}/ImputedFootballPlayerOneHotEncodedClasses.csv\""
   ]
  },
  {
   "cell_type": "markdown",
   "id": "24641dc6",
   "metadata": {},
   "source": [
    "Now we load the data and show its info"
   ]
  },
  {
   "cell_type": "code",
   "execution_count": 3,
   "id": "70f186ed",
   "metadata": {},
   "outputs": [],
   "source": [
    "dataset = pd.read_csv(INPUT_FILE_NAME, sep=\",\")"
   ]
  },
  {
   "cell_type": "code",
   "execution_count": 4,
   "id": "36e7e280",
   "metadata": {},
   "outputs": [
    {
     "name": "stdout",
     "output_type": "stream",
     "text": [
      "<class 'pandas.core.frame.DataFrame'>\n",
      "RangeIndex: 18207 entries, 0 to 18206\n",
      "Data columns (total 89 columns):\n",
      " #   Column                    Non-Null Count  Dtype  \n",
      "---  ------                    --------------  -----  \n",
      " 0   Unnamed: 0                18207 non-null  int64  \n",
      " 1   ID                        18207 non-null  int64  \n",
      " 2   Name                      18207 non-null  object \n",
      " 3   Age                       18207 non-null  int64  \n",
      " 4   Photo                     18207 non-null  object \n",
      " 5   Nationality               18207 non-null  object \n",
      " 6   Flag                      18207 non-null  object \n",
      " 7   Overall                   18207 non-null  int64  \n",
      " 8   Potential                 18207 non-null  int64  \n",
      " 9   Club                      17966 non-null  object \n",
      " 10  Club Logo                 18207 non-null  object \n",
      " 11  Value                     18207 non-null  object \n",
      " 12  Wage                      18207 non-null  object \n",
      " 13  Special                   18207 non-null  int64  \n",
      " 14  Preferred Foot            18159 non-null  object \n",
      " 15  International Reputation  18159 non-null  float64\n",
      " 16  Weak Foot                 18159 non-null  float64\n",
      " 17  Skill Moves               18159 non-null  float64\n",
      " 18  Work Rate                 18159 non-null  object \n",
      " 19  Body Type                 18159 non-null  object \n",
      " 20  Real Face                 18159 non-null  object \n",
      " 21  Position                  18147 non-null  object \n",
      " 22  Jersey Number             18147 non-null  float64\n",
      " 23  Joined                    16654 non-null  object \n",
      " 24  Loaned From               1264 non-null   object \n",
      " 25  Contract Valid Until      17918 non-null  object \n",
      " 26  Height                    18159 non-null  object \n",
      " 27  Weight                    18159 non-null  object \n",
      " 28  LS                        16122 non-null  object \n",
      " 29  ST                        16122 non-null  object \n",
      " 30  RS                        16122 non-null  object \n",
      " 31  LW                        16122 non-null  object \n",
      " 32  LF                        16122 non-null  object \n",
      " 33  CF                        16122 non-null  object \n",
      " 34  RF                        16122 non-null  object \n",
      " 35  RW                        16122 non-null  object \n",
      " 36  LAM                       16122 non-null  object \n",
      " 37  CAM                       16122 non-null  object \n",
      " 38  RAM                       16122 non-null  object \n",
      " 39  LM                        16122 non-null  object \n",
      " 40  LCM                       16122 non-null  object \n",
      " 41  CM                        16122 non-null  object \n",
      " 42  RCM                       16122 non-null  object \n",
      " 43  RM                        16122 non-null  object \n",
      " 44  LWB                       16122 non-null  object \n",
      " 45  LDM                       16122 non-null  object \n",
      " 46  CDM                       16122 non-null  object \n",
      " 47  RDM                       16122 non-null  object \n",
      " 48  RWB                       16122 non-null  object \n",
      " 49  LB                        16122 non-null  object \n",
      " 50  LCB                       16122 non-null  object \n",
      " 51  CB                        16122 non-null  object \n",
      " 52  RCB                       16122 non-null  object \n",
      " 53  RB                        16122 non-null  object \n",
      " 54  Crossing                  18159 non-null  float64\n",
      " 55  Finishing                 18159 non-null  float64\n",
      " 56  HeadingAccuracy           18159 non-null  float64\n",
      " 57  ShortPassing              18159 non-null  float64\n",
      " 58  Volleys                   18159 non-null  float64\n",
      " 59  Dribbling                 18159 non-null  float64\n",
      " 60  Curve                     18159 non-null  float64\n",
      " 61  FKAccuracy                18159 non-null  float64\n",
      " 62  LongPassing               18159 non-null  float64\n",
      " 63  BallControl               18159 non-null  float64\n",
      " 64  Acceleration              18159 non-null  float64\n",
      " 65  SprintSpeed               18159 non-null  float64\n",
      " 66  Agility                   18159 non-null  float64\n",
      " 67  Reactions                 18159 non-null  float64\n",
      " 68  Balance                   18159 non-null  float64\n",
      " 69  ShotPower                 18159 non-null  float64\n",
      " 70  Jumping                   18159 non-null  float64\n",
      " 71  Stamina                   18159 non-null  float64\n",
      " 72  Strength                  18159 non-null  float64\n",
      " 73  LongShots                 18159 non-null  float64\n",
      " 74  Aggression                18159 non-null  float64\n",
      " 75  Interceptions             18159 non-null  float64\n",
      " 76  Positioning               18159 non-null  float64\n",
      " 77  Vision                    18159 non-null  float64\n",
      " 78  Penalties                 18159 non-null  float64\n",
      " 79  Composure                 18159 non-null  float64\n",
      " 80  Marking                   18159 non-null  float64\n",
      " 81  StandingTackle            18159 non-null  float64\n",
      " 82  SlidingTackle             18159 non-null  float64\n",
      " 83  GKDiving                  18159 non-null  float64\n",
      " 84  GKHandling                18159 non-null  float64\n",
      " 85  GKKicking                 18159 non-null  float64\n",
      " 86  GKPositioning             18159 non-null  float64\n",
      " 87  GKReflexes                18159 non-null  float64\n",
      " 88  Release Clause            16643 non-null  object \n",
      "dtypes: float64(38), int64(6), object(45)\n",
      "memory usage: 12.4+ MB\n"
     ]
    }
   ],
   "source": [
    "dataset.info()"
   ]
  },
  {
   "cell_type": "markdown",
   "id": "f6c6a1c8",
   "metadata": {},
   "source": [
    "## Step 3: Data cleaning"
   ]
  },
  {
   "cell_type": "markdown",
   "id": "916af296",
   "metadata": {},
   "source": [
    "We remove all goalkeepers as we will also remove the columns that represent their statistics"
   ]
  },
  {
   "cell_type": "code",
   "execution_count": 5,
   "id": "746d30c9",
   "metadata": {},
   "outputs": [],
   "source": [
    "dataset.drop(dataset[dataset.Position=='GK'].index, inplace=True)"
   ]
  },
  {
   "cell_type": "markdown",
   "id": "a873f7a5",
   "metadata": {},
   "source": [
    "First we remove unnecesary columns that we think won't affect the overall score of a player:\n",
    "- Id\n",
    "- Name\n",
    "- Photo\n",
    "- Nationality and Flag\n",
    "- Team\n",
    "- Club and Club Logo\n",
    "- Preferred Foot\n",
    "- Work Rate\n",
    "- Body Type\n",
    "- Real Face\n",
    "- Position\n",
    "- Jersey Number\n",
    "- Joined\n",
    "- Loaned From\n",
    "- Contract Valid Until\n",
    "- Height\n",
    "- Weight\n",
    "- From LS to RB\n",
    "- From GKDiving to GKReflexes\n"
   ]
  },
  {
   "cell_type": "code",
   "execution_count": 6,
   "id": "d21977ea",
   "metadata": {},
   "outputs": [],
   "source": [
    "dataset.drop(dataset.loc[:, 'Unnamed: 0':'Name'].columns, inplace=True, axis = 1)\n",
    "dataset.drop(dataset.loc[:, 'Photo':'Flag'].columns, inplace=True, axis = 1)\n",
    "dataset.drop(dataset.loc[:, 'Club':'Club Logo'].columns, inplace=True, axis = 1)\n",
    "dataset.drop(dataset.loc[:, 'Preferred Foot':'Preferred Foot'].columns, inplace=True, axis = 1)\n",
    "dataset.drop(dataset.loc[:, 'Work Rate':'RB'].columns, inplace=True, axis = 1)\n",
    "dataset.drop(dataset.loc[:, 'GKDiving':'GKReflexes'].columns, inplace=True, axis = 1)\n",
    "\n"
   ]
  },
  {
   "cell_type": "code",
   "execution_count": 7,
   "id": "1f136739",
   "metadata": {},
   "outputs": [
    {
     "name": "stdout",
     "output_type": "stream",
     "text": [
      "<class 'pandas.core.frame.DataFrame'>\n",
      "Int64Index: 16182 entries, 0 to 18206\n",
      "Data columns (total 39 columns):\n",
      " #   Column                    Non-Null Count  Dtype  \n",
      "---  ------                    --------------  -----  \n",
      " 0   Age                       16182 non-null  int64  \n",
      " 1   Overall                   16182 non-null  int64  \n",
      " 2   Potential                 16182 non-null  int64  \n",
      " 3   Value                     16182 non-null  object \n",
      " 4   Wage                      16182 non-null  object \n",
      " 5   Special                   16182 non-null  int64  \n",
      " 6   International Reputation  16134 non-null  float64\n",
      " 7   Weak Foot                 16134 non-null  float64\n",
      " 8   Skill Moves               16134 non-null  float64\n",
      " 9   Crossing                  16134 non-null  float64\n",
      " 10  Finishing                 16134 non-null  float64\n",
      " 11  HeadingAccuracy           16134 non-null  float64\n",
      " 12  ShortPassing              16134 non-null  float64\n",
      " 13  Volleys                   16134 non-null  float64\n",
      " 14  Dribbling                 16134 non-null  float64\n",
      " 15  Curve                     16134 non-null  float64\n",
      " 16  FKAccuracy                16134 non-null  float64\n",
      " 17  LongPassing               16134 non-null  float64\n",
      " 18  BallControl               16134 non-null  float64\n",
      " 19  Acceleration              16134 non-null  float64\n",
      " 20  SprintSpeed               16134 non-null  float64\n",
      " 21  Agility                   16134 non-null  float64\n",
      " 22  Reactions                 16134 non-null  float64\n",
      " 23  Balance                   16134 non-null  float64\n",
      " 24  ShotPower                 16134 non-null  float64\n",
      " 25  Jumping                   16134 non-null  float64\n",
      " 26  Stamina                   16134 non-null  float64\n",
      " 27  Strength                  16134 non-null  float64\n",
      " 28  LongShots                 16134 non-null  float64\n",
      " 29  Aggression                16134 non-null  float64\n",
      " 30  Interceptions             16134 non-null  float64\n",
      " 31  Positioning               16134 non-null  float64\n",
      " 32  Vision                    16134 non-null  float64\n",
      " 33  Penalties                 16134 non-null  float64\n",
      " 34  Composure                 16134 non-null  float64\n",
      " 35  Marking                   16134 non-null  float64\n",
      " 36  StandingTackle            16134 non-null  float64\n",
      " 37  SlidingTackle             16134 non-null  float64\n",
      " 38  Release Clause            14743 non-null  object \n",
      "dtypes: float64(32), int64(4), object(3)\n",
      "memory usage: 4.9+ MB\n"
     ]
    }
   ],
   "source": [
    "dataset.info()"
   ]
  },
  {
   "cell_type": "markdown",
   "id": "2df7b714",
   "metadata": {},
   "source": [
    "Now we need to take care of the columns whose DType is object"
   ]
  },
  {
   "cell_type": "markdown",
   "id": "c6dd67a8",
   "metadata": {},
   "source": [
    "- Let's start by the **Value** column: We will remove the '€' , 'K' and 'M' characters and then change its type to float"
   ]
  },
  {
   "cell_type": "code",
   "execution_count": 8,
   "id": "3589b700",
   "metadata": {},
   "outputs": [],
   "source": [
    "dataset[\"Value\"] = dataset[\"Value\"].str.replace('€','')\n",
    "dataset[\"Value\"] = dataset[\"Value\"].str.replace('M','')\n",
    "dataset[\"Value\"] = dataset[\"Value\"].str.replace('K','')\n",
    "dataset[\"Value\"] = dataset[\"Value\"].astype(float)"
   ]
  },
  {
   "cell_type": "markdown",
   "id": "8cc3a80d",
   "metadata": {},
   "source": [
    "- Next column to take care of is **Wage** column: We will remove the '€' , 'K' and 'M' characters and then change its type to float"
   ]
  },
  {
   "cell_type": "code",
   "execution_count": 9,
   "id": "d476df85",
   "metadata": {},
   "outputs": [],
   "source": [
    "dataset[\"Wage\"] = dataset[\"Wage\"].str.replace('€','')\n",
    "dataset[\"Wage\"] = dataset[\"Wage\"].str.replace('K','')\n",
    "dataset[\"Wage\"] = dataset[\"Wage\"].astype(float)"
   ]
  },
  {
   "cell_type": "markdown",
   "id": "5a203bb3",
   "metadata": {},
   "source": [
    "- The last column that needs processing is **Release Clause**: We will remove the '€' , 'K' and 'M' characters and then change its type to float"
   ]
  },
  {
   "cell_type": "code",
   "execution_count": 10,
   "id": "db3932e7",
   "metadata": {},
   "outputs": [],
   "source": [
    "dataset[\"Release Clause\"] = dataset[\"Release Clause\"].str.replace('€','')\n",
    "dataset[\"Release Clause\"] = dataset[\"Release Clause\"].str.replace('M','')\n",
    "dataset[\"Release Clause\"] = dataset[\"Release Clause\"].str.replace('K','')\n",
    "dataset[\"Release Clause\"] = dataset[\"Release Clause\"].astype(float)"
   ]
  },
  {
   "cell_type": "markdown",
   "id": "7378e9f4",
   "metadata": {},
   "source": [
    "Finally let's check the dataset info after the changes"
   ]
  },
  {
   "cell_type": "code",
   "execution_count": 11,
   "id": "32138030",
   "metadata": {},
   "outputs": [
    {
     "name": "stdout",
     "output_type": "stream",
     "text": [
      "<class 'pandas.core.frame.DataFrame'>\n",
      "Int64Index: 16182 entries, 0 to 18206\n",
      "Data columns (total 39 columns):\n",
      " #   Column                    Non-Null Count  Dtype  \n",
      "---  ------                    --------------  -----  \n",
      " 0   Age                       16182 non-null  int64  \n",
      " 1   Overall                   16182 non-null  int64  \n",
      " 2   Potential                 16182 non-null  int64  \n",
      " 3   Value                     16182 non-null  float64\n",
      " 4   Wage                      16182 non-null  float64\n",
      " 5   Special                   16182 non-null  int64  \n",
      " 6   International Reputation  16134 non-null  float64\n",
      " 7   Weak Foot                 16134 non-null  float64\n",
      " 8   Skill Moves               16134 non-null  float64\n",
      " 9   Crossing                  16134 non-null  float64\n",
      " 10  Finishing                 16134 non-null  float64\n",
      " 11  HeadingAccuracy           16134 non-null  float64\n",
      " 12  ShortPassing              16134 non-null  float64\n",
      " 13  Volleys                   16134 non-null  float64\n",
      " 14  Dribbling                 16134 non-null  float64\n",
      " 15  Curve                     16134 non-null  float64\n",
      " 16  FKAccuracy                16134 non-null  float64\n",
      " 17  LongPassing               16134 non-null  float64\n",
      " 18  BallControl               16134 non-null  float64\n",
      " 19  Acceleration              16134 non-null  float64\n",
      " 20  SprintSpeed               16134 non-null  float64\n",
      " 21  Agility                   16134 non-null  float64\n",
      " 22  Reactions                 16134 non-null  float64\n",
      " 23  Balance                   16134 non-null  float64\n",
      " 24  ShotPower                 16134 non-null  float64\n",
      " 25  Jumping                   16134 non-null  float64\n",
      " 26  Stamina                   16134 non-null  float64\n",
      " 27  Strength                  16134 non-null  float64\n",
      " 28  LongShots                 16134 non-null  float64\n",
      " 29  Aggression                16134 non-null  float64\n",
      " 30  Interceptions             16134 non-null  float64\n",
      " 31  Positioning               16134 non-null  float64\n",
      " 32  Vision                    16134 non-null  float64\n",
      " 33  Penalties                 16134 non-null  float64\n",
      " 34  Composure                 16134 non-null  float64\n",
      " 35  Marking                   16134 non-null  float64\n",
      " 36  StandingTackle            16134 non-null  float64\n",
      " 37  SlidingTackle             16134 non-null  float64\n",
      " 38  Release Clause            14743 non-null  float64\n",
      "dtypes: float64(35), int64(4)\n",
      "memory usage: 4.9 MB\n"
     ]
    }
   ],
   "source": [
    "dataset.info()"
   ]
  },
  {
   "cell_type": "code",
   "execution_count": null,
   "id": "51993067",
   "metadata": {},
   "outputs": [],
   "source": []
  }
 ],
 "metadata": {
  "kernelspec": {
   "display_name": "Python 3 (ipykernel)",
   "language": "python",
   "name": "python3"
  },
  "language_info": {
   "codemirror_mode": {
    "name": "ipython",
    "version": 3
   },
   "file_extension": ".py",
   "mimetype": "text/x-python",
   "name": "python",
   "nbconvert_exporter": "python",
   "pygments_lexer": "ipython3",
   "version": "3.10.4"
  }
 },
 "nbformat": 4,
 "nbformat_minor": 5
}
