{
 "cells": [
  {
   "cell_type": "code",
   "execution_count": 1,
   "id": "7c3db053",
   "metadata": {},
   "outputs": [],
   "source": [
    "import pandas as pd"
   ]
  },
  {
   "cell_type": "code",
   "execution_count": 2,
   "id": "bc97ca39",
   "metadata": {},
   "outputs": [],
   "source": [
    "COLUMNS = [\n",
    "    'model_name',\n",
    "    'epochs',\n",
    "    'learning_rate',\n",
    "    'batch_size',\n",
    "    'activation',\n",
    "    'loss',\n",
    "    'optimizer',\n",
    "    'regularization',\n",
    "    'train_accuracy',\n",
    "    'validation_accuracy',\n",
    "    'bias',\n",
    "    'variance',\n",
    "    'training_time'\n",
    "]"
   ]
  },
  {
   "cell_type": "code",
   "execution_count": 3,
   "id": "4ce47c1a",
   "metadata": {},
   "outputs": [],
   "source": [
    "dataframe = pd.DataFrame(columns=COLUMNS)"
   ]
  },
  {
   "cell_type": "code",
   "execution_count": 4,
   "id": "031cd8ab",
   "metadata": {},
   "outputs": [
    {
     "data": {
      "text/html": [
       "<div>\n",
       "<style scoped>\n",
       "    .dataframe tbody tr th:only-of-type {\n",
       "        vertical-align: middle;\n",
       "    }\n",
       "\n",
       "    .dataframe tbody tr th {\n",
       "        vertical-align: top;\n",
       "    }\n",
       "\n",
       "    .dataframe thead th {\n",
       "        text-align: right;\n",
       "    }\n",
       "</style>\n",
       "<table border=\"1\" class=\"dataframe\">\n",
       "  <thead>\n",
       "    <tr style=\"text-align: right;\">\n",
       "      <th></th>\n",
       "      <th>model_name</th>\n",
       "      <th>epochs</th>\n",
       "      <th>learning_rate</th>\n",
       "      <th>batch_size</th>\n",
       "      <th>activation</th>\n",
       "      <th>loss</th>\n",
       "      <th>optimizer</th>\n",
       "      <th>regularization</th>\n",
       "      <th>train_accuracy</th>\n",
       "      <th>validation_accuracy</th>\n",
       "      <th>bias</th>\n",
       "      <th>variance</th>\n",
       "      <th>training_time</th>\n",
       "    </tr>\n",
       "  </thead>\n",
       "  <tbody>\n",
       "  </tbody>\n",
       "</table>\n",
       "</div>"
      ],
      "text/plain": [
       "Empty DataFrame\n",
       "Columns: [model_name, epochs, learning_rate, batch_size, activation, loss, optimizer, regularization, train_accuracy, validation_accuracy, bias, variance, training_time]\n",
       "Index: []"
      ]
     },
     "execution_count": 4,
     "metadata": {},
     "output_type": "execute_result"
    }
   ],
   "source": [
    "dataframe.head()"
   ]
  },
  {
   "cell_type": "code",
   "execution_count": 5,
   "id": "427d2f7a",
   "metadata": {},
   "outputs": [],
   "source": [
    "dataframe.to_csv('models_performance.csv')"
   ]
  },
  {
   "cell_type": "code",
   "execution_count": null,
   "id": "50855a67",
   "metadata": {},
   "outputs": [],
   "source": []
  }
 ],
 "metadata": {
  "kernelspec": {
   "display_name": "Python 3 (ipykernel)",
   "language": "python",
   "name": "python3"
  },
  "language_info": {
   "codemirror_mode": {
    "name": "ipython",
    "version": 3
   },
   "file_extension": ".py",
   "mimetype": "text/x-python",
   "name": "python",
   "nbconvert_exporter": "python",
   "pygments_lexer": "ipython3",
   "version": "3.10.4"
  }
 },
 "nbformat": 4,
 "nbformat_minor": 5
}
