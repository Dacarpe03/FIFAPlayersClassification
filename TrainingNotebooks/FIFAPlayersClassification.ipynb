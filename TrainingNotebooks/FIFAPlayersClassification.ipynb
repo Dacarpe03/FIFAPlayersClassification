{
 "cells": [
  {
   "cell_type": "markdown",
   "id": "afbf7942",
   "metadata": {},
   "source": [
    "# FIFA Players Classification"
   ]
  },
  {
   "cell_type": "markdown",
   "id": "28d93c7f",
   "metadata": {},
   "source": [
    "This notebook contains the code to train models for the FIFA Classification problem based on their attributes"
   ]
  },
  {
   "cell_type": "markdown",
   "id": "60b8fd6a",
   "metadata": {},
   "source": [
    "## Step 1: Import libraries"
   ]
  },
  {
   "cell_type": "markdown",
   "id": "131050b3",
   "metadata": {},
   "source": [
    "Libraries we will be using:\n",
    "- **tensorflow** and **keras**: APIs for neural network model construction and training\n",
    "- **numpy**: Numerical python library.\n",
    "- **pandas**: Will be used to work with dataframes from .csv files.\n",
    "- **sklearn**: Will be used to modify the labels of the data and do some statistical modifications.\n",
    "- **matplotlib**: Will be used to plot graphics.\n",
    "- **time**: To measure training time.\n",
    "- **datetime**: To get the datetime a new model is created and use that to create its name"
   ]
  },
  {
   "cell_type": "code",
   "execution_count": 1,
   "id": "82e7996e",
   "metadata": {},
   "outputs": [],
   "source": [
    "import tensorflow as tf\n",
    "from tensorflow import keras\n",
    "import numpy as np\n",
    "import pandas as pd\n",
    "import matplotlib.pyplot as plt\n",
    "import time\n",
    "from datetime import datetime"
   ]
  },
  {
   "cell_type": "markdown",
   "id": "4f1f625e",
   "metadata": {},
   "source": [
    "## Step 2: Load data"
   ]
  },
  {
   "cell_type": "markdown",
   "id": "d179abec",
   "metadata": {},
   "source": [
    "We first define the path to our data"
   ]
  },
  {
   "cell_type": "code",
   "execution_count": 2,
   "id": "606b86e2",
   "metadata": {},
   "outputs": [],
   "source": [
    "DATA_FOLDER = \"../Data\"\n",
    "\n",
    "ATT_FILE = f\"{DATA_FOLDER}/FootballPlayerPreparedCleanAttributes.csv\"\n",
    "IMPUTED_ATT_FILE = f\"{DATA_FOLDER}/ImputedFootballPlayerPreparedCleanAttributes.csv\"\n",
    "\n",
    "ONE_HOT_LABEL_FILE = f\"{DATA_FOLDER}/FootballPlayerOneHotEncodedClasses.csv\"\n",
    "IMPUTED_ONE_HOT_LABEL_FILE = f\"{DATA_FOLDER}/ImputedFootballPlayerPreparedCleanAttributes.csv\""
   ]
  },
  {
   "cell_type": "markdown",
   "id": "8a688034",
   "metadata": {},
   "source": [
    "Specify training options:\n",
    "- **IMPUTED_DATA**: We will use file with data imputed\n",
    "- **TRAIN_RATE**: The amount of instances to use during training, it will also determine the dev and test instances number indirectly"
   ]
  },
  {
   "cell_type": "code",
   "execution_count": 3,
   "id": "2bd577cd",
   "metadata": {},
   "outputs": [],
   "source": [
    "IMPUTED_DATA = False    # Use imputed dataset\n",
    "TRAIN_RATE = 0.8        # The division of the data for training, validation and test"
   ]
  },
  {
   "cell_type": "markdown",
   "id": "1a1d4f71",
   "metadata": {},
   "source": [
    "Because our data has more than 10000, we will be using 80-10-10 split in our dataset:\n",
    "- **80%** for training\n",
    "- **10%** for validation/dev test\n",
    "- **10%** for final test"
   ]
  },
  {
   "cell_type": "code",
   "execution_count": 4,
   "id": "3f3e2b61",
   "metadata": {},
   "outputs": [
    {
     "name": "stdout",
     "output_type": "stream",
     "text": [
      "instances_train: (12897, 17)\n",
      "labels_train: (12897, 4)\n",
      "instances_dev: (1612, 17)\n",
      "labels_dev: (1612, 4)\n"
     ]
    }
   ],
   "source": [
    "if IMPUTED_DATA:\n",
    "    attributes = pd.read_csv(ATT_IMPUTED_FILE)\n",
    "    labels = pd.read_csv(ONE_HOT_LABEL_IMPUTED_FILE)\n",
    "else:\n",
    "    attributes = pd.read_csv(ATT_FILE)\n",
    "    labels = pd.read_csv(ONE_HOT_LABEL_FILE)\n",
    "\n",
    "n_total_instances = attributes.shape[0]\n",
    "n_train_instances = int(n_total_instances * TRAIN_RATE)\n",
    "n_dev_instances = int((n_total_instances - n_train_instances)/2)\n",
    "\n",
    "instances_train = attributes.values[:n_train_instances]\n",
    "labels_train = labels.values[:n_train_instances]\n",
    "\n",
    "instances_dev = attributes.values[n_train_instances: n_train_instances + n_dev_instances]\n",
    "labels_dev = labels.values[n_train_instances: n_train_instances + n_dev_instances]\n",
    "\n",
    "print(\"instances_train:\", instances_train.shape)\n",
    "print(\"labels_train:\", labels_train.shape)\n",
    "print(\"instances_dev:\", instances_dev.shape)\n",
    "print(\"labels_dev:\",labels_dev.shape)"
   ]
  },
  {
   "cell_type": "markdown",
   "id": "bd9933d5",
   "metadata": {},
   "source": [
    "## Step 3: Initialize variables\n",
    "- **INPUT_SIZE**: The size of the training instances\n",
    "- **OUTPUT_SIZE**: The number of possible classes\n",
    "- **NUM_TRAINING_EXAMPLES**: The number of possible classes\n",
    "- **NUM_DEV_EXAMPLES**: The number of validation/dev test instances"
   ]
  },
  {
   "cell_type": "code",
   "execution_count": 5,
   "id": "285da4cd",
   "metadata": {},
   "outputs": [],
   "source": [
    "INPUT_SIZE = instances_train.shape[1]\n",
    "OUTPUT_SIZE = labels_train.shape[1]\n",
    "NUM_TRAINING_EXAMPLES = int(round(instances_train.shape[0]/1))\n",
    "NUM_DEV_EXAMPLES = int(round(instances_dev.shape[0]/1))"
   ]
  },
  {
   "cell_type": "markdown",
   "id": "396bb346",
   "metadata": {},
   "source": [
    "## Step 4: Set hyperparameters"
   ]
  },
  {
   "cell_type": "markdown",
   "id": "0d2dad4a",
   "metadata": {},
   "source": [
    "- **LEARNING_RATE** $\\alpha$: The step size in the learning process\n",
    "- **BATCH_SIZE**: The size of each batch\n",
    "- **N_HIDDEN**: Number of neurons in the hidden.\n",
    "\n",
    "The learning process stops when it reaches 20,000 learning iterations. An iteration comprises presenting the network *batch_size* learning examples and then adjusting the weights (parameters)."
   ]
  },
  {
   "cell_type": "code",
   "execution_count": 6,
   "id": "e10d4cbf",
   "metadata": {},
   "outputs": [],
   "source": [
    "N_EPOCHS = 100 # 32,000 it aprox.\n",
    "LEARNING_RATE = 0.1\n",
    "BATCH_SIZE = 512\n",
    "ACTIVATION = \"relu\"\n",
    "N_HIDDEN = [512, 256, 64, 32]\n",
    "LOSS = tf.keras.losses.categorical_crossentropy\n",
    "OPTIMIZER = tf.keras.optimizers.SGD(learning_rate=LEARNING_RATE)\n",
    "METRICS = [\"categorical_accuracy\"]"
   ]
  },
  {
   "cell_type": "markdown",
   "id": "2efdd70f",
   "metadata": {},
   "source": [
    "## Step 5: Build the model"
   ]
  },
  {
   "cell_type": "code",
   "execution_count": 7,
   "id": "2c64c35f",
   "metadata": {},
   "outputs": [],
   "source": [
    "def test_model():\n",
    "    model = keras.Sequential(name=\"Model\")\n",
    "    model.add(keras.layers.InputLayer(input_shape=(INPUT_SIZE,), batch_size=None))\n",
    "    for neurons in N_HIDDEN:\n",
    "        model.add(keras.layers.Dense(neurons, activation=ACTIVATION))\n",
    "    model.add(keras.layers.Dense(OUTPUT_SIZE, activation=\"softmax\"))\n",
    "    \n",
    "    model_name = \"D512_D256_D64_D32\"\n",
    "    return model, model_name\n",
    "\n",
    "def compile_model(model):\n",
    "    my_model.compile(loss=LOSS,\n",
    "                     optimizer=OPTIMIZER,\n",
    "                     metrics=METRICS)"
   ]
  },
  {
   "cell_type": "code",
   "execution_count": 8,
   "id": "285588b4",
   "metadata": {},
   "outputs": [],
   "source": [
    "my_model, model_name = test_model()"
   ]
  },
  {
   "cell_type": "code",
   "execution_count": 9,
   "id": "0783d160",
   "metadata": {},
   "outputs": [],
   "source": [
    "compile_model(my_model)"
   ]
  },
  {
   "cell_type": "markdown",
   "id": "de9bd782",
   "metadata": {},
   "source": [
    "## Step 6: Train the model"
   ]
  },
  {
   "cell_type": "code",
   "execution_count": 10,
   "id": "9462a422",
   "metadata": {},
   "outputs": [
    {
     "name": "stdout",
     "output_type": "stream",
     "text": [
      "Epoch 1/100\n",
      "26/26 [==============================] - 2s 13ms/step - loss: 1.3029 - categorical_accuracy: 0.4052 - val_loss: 1.1932 - val_categorical_accuracy: 0.5521\n",
      "Epoch 2/100\n",
      "26/26 [==============================] - 0s 6ms/step - loss: 1.0760 - categorical_accuracy: 0.5806 - val_loss: 0.9514 - val_categorical_accuracy: 0.5931\n",
      "Epoch 3/100\n",
      "26/26 [==============================] - 0s 6ms/step - loss: 0.8471 - categorical_accuracy: 0.6532 - val_loss: 0.7536 - val_categorical_accuracy: 0.6855\n",
      "Epoch 4/100\n",
      "26/26 [==============================] - 0s 6ms/step - loss: 0.6829 - categorical_accuracy: 0.7250 - val_loss: 0.6488 - val_categorical_accuracy: 0.6998\n",
      "Epoch 5/100\n",
      "26/26 [==============================] - 0s 6ms/step - loss: 0.5978 - categorical_accuracy: 0.7481 - val_loss: 0.6262 - val_categorical_accuracy: 0.7084\n",
      "Epoch 6/100\n",
      "26/26 [==============================] - 0s 6ms/step - loss: 0.6595 - categorical_accuracy: 0.7024 - val_loss: 0.5462 - val_categorical_accuracy: 0.7525\n",
      "Epoch 7/100\n",
      "26/26 [==============================] - 0s 6ms/step - loss: 0.6107 - categorical_accuracy: 0.7279 - val_loss: 0.6052 - val_categorical_accuracy: 0.7215\n",
      "Epoch 8/100\n",
      "26/26 [==============================] - 0s 6ms/step - loss: 0.5467 - categorical_accuracy: 0.7591 - val_loss: 0.5131 - val_categorical_accuracy: 0.7767\n",
      "Epoch 9/100\n",
      "26/26 [==============================] - 0s 6ms/step - loss: 0.5996 - categorical_accuracy: 0.7403 - val_loss: 0.5137 - val_categorical_accuracy: 0.7717\n",
      "Epoch 10/100\n",
      "26/26 [==============================] - 0s 6ms/step - loss: 0.5107 - categorical_accuracy: 0.7767 - val_loss: 0.5024 - val_categorical_accuracy: 0.7792\n",
      "Epoch 11/100\n",
      "26/26 [==============================] - 0s 6ms/step - loss: 0.5484 - categorical_accuracy: 0.7585 - val_loss: 0.7588 - val_categorical_accuracy: 0.6545\n",
      "Epoch 12/100\n",
      "26/26 [==============================] - 0s 5ms/step - loss: 0.5099 - categorical_accuracy: 0.7774 - val_loss: 0.5558 - val_categorical_accuracy: 0.7413\n",
      "Epoch 13/100\n",
      "26/26 [==============================] - 0s 5ms/step - loss: 0.5168 - categorical_accuracy: 0.7726 - val_loss: 0.4972 - val_categorical_accuracy: 0.7785\n",
      "Epoch 14/100\n",
      "26/26 [==============================] - 0s 5ms/step - loss: 0.4682 - categorical_accuracy: 0.7976 - val_loss: 0.6960 - val_categorical_accuracy: 0.6929\n",
      "Epoch 15/100\n",
      "26/26 [==============================] - 0s 6ms/step - loss: 0.5134 - categorical_accuracy: 0.7753 - val_loss: 0.5087 - val_categorical_accuracy: 0.7655\n",
      "Epoch 16/100\n",
      "26/26 [==============================] - 0s 5ms/step - loss: 0.4802 - categorical_accuracy: 0.7888 - val_loss: 0.6569 - val_categorical_accuracy: 0.7041\n",
      "Epoch 17/100\n",
      "26/26 [==============================] - 0s 6ms/step - loss: 0.5226 - categorical_accuracy: 0.7646 - val_loss: 0.4747 - val_categorical_accuracy: 0.7903\n",
      "Epoch 18/100\n",
      "26/26 [==============================] - 0s 6ms/step - loss: 0.4748 - categorical_accuracy: 0.7911 - val_loss: 0.4737 - val_categorical_accuracy: 0.7922\n",
      "Epoch 19/100\n",
      "26/26 [==============================] - 0s 5ms/step - loss: 0.4690 - categorical_accuracy: 0.7923 - val_loss: 0.5001 - val_categorical_accuracy: 0.7624\n",
      "Epoch 20/100\n",
      "26/26 [==============================] - 0s 6ms/step - loss: 0.4514 - categorical_accuracy: 0.8038 - val_loss: 0.4902 - val_categorical_accuracy: 0.7730\n",
      "Epoch 21/100\n",
      "26/26 [==============================] - 0s 5ms/step - loss: 0.4438 - categorical_accuracy: 0.8081 - val_loss: 0.4880 - val_categorical_accuracy: 0.7742\n",
      "Epoch 22/100\n",
      "26/26 [==============================] - 0s 5ms/step - loss: 0.5180 - categorical_accuracy: 0.7724 - val_loss: 0.4810 - val_categorical_accuracy: 0.7829\n",
      "Epoch 23/100\n",
      "26/26 [==============================] - 0s 6ms/step - loss: 0.4397 - categorical_accuracy: 0.8087 - val_loss: 0.4651 - val_categorical_accuracy: 0.7903\n",
      "Epoch 24/100\n",
      "26/26 [==============================] - 0s 6ms/step - loss: 0.4852 - categorical_accuracy: 0.7892 - val_loss: 0.5775 - val_categorical_accuracy: 0.7301\n",
      "Epoch 25/100\n",
      "26/26 [==============================] - 0s 6ms/step - loss: 0.4551 - categorical_accuracy: 0.7993 - val_loss: 0.5178 - val_categorical_accuracy: 0.7599\n",
      "Epoch 26/100\n",
      "26/26 [==============================] - 0s 6ms/step - loss: 0.4490 - categorical_accuracy: 0.8027 - val_loss: 0.4766 - val_categorical_accuracy: 0.7785\n",
      "Epoch 27/100\n",
      "26/26 [==============================] - 0s 6ms/step - loss: 0.4724 - categorical_accuracy: 0.7907 - val_loss: 0.4815 - val_categorical_accuracy: 0.7829\n",
      "Epoch 28/100\n",
      "26/26 [==============================] - 0s 6ms/step - loss: 0.4849 - categorical_accuracy: 0.7887 - val_loss: 0.4566 - val_categorical_accuracy: 0.7965\n",
      "Epoch 29/100\n",
      "26/26 [==============================] - 0s 5ms/step - loss: 0.4303 - categorical_accuracy: 0.8123 - val_loss: 0.5109 - val_categorical_accuracy: 0.7699\n",
      "Epoch 30/100\n",
      "26/26 [==============================] - 0s 6ms/step - loss: 0.4437 - categorical_accuracy: 0.8070 - val_loss: 0.4515 - val_categorical_accuracy: 0.7891\n",
      "Epoch 31/100\n",
      "26/26 [==============================] - 0s 6ms/step - loss: 0.4244 - categorical_accuracy: 0.8152 - val_loss: 0.4527 - val_categorical_accuracy: 0.8002\n",
      "Epoch 32/100\n",
      "26/26 [==============================] - 0s 7ms/step - loss: 0.4814 - categorical_accuracy: 0.7858 - val_loss: 0.4540 - val_categorical_accuracy: 0.7934\n",
      "Epoch 33/100\n",
      "26/26 [==============================] - 0s 7ms/step - loss: 0.4551 - categorical_accuracy: 0.8020 - val_loss: 0.5377 - val_categorical_accuracy: 0.7481\n",
      "Epoch 34/100\n",
      "26/26 [==============================] - 0s 7ms/step - loss: 0.4379 - categorical_accuracy: 0.8069 - val_loss: 0.4444 - val_categorical_accuracy: 0.7978\n",
      "Epoch 35/100\n",
      "26/26 [==============================] - 0s 9ms/step - loss: 0.4556 - categorical_accuracy: 0.8005 - val_loss: 0.5486 - val_categorical_accuracy: 0.7531\n",
      "Epoch 36/100\n",
      "26/26 [==============================] - 0s 8ms/step - loss: 0.4430 - categorical_accuracy: 0.8038 - val_loss: 0.4590 - val_categorical_accuracy: 0.7940\n",
      "Epoch 37/100\n",
      "26/26 [==============================] - 0s 7ms/step - loss: 0.4256 - categorical_accuracy: 0.8145 - val_loss: 0.4502 - val_categorical_accuracy: 0.7996\n",
      "Epoch 38/100\n",
      "26/26 [==============================] - 0s 8ms/step - loss: 0.4827 - categorical_accuracy: 0.7878 - val_loss: 0.4931 - val_categorical_accuracy: 0.7705\n",
      "Epoch 39/100\n",
      "26/26 [==============================] - 0s 8ms/step - loss: 0.4252 - categorical_accuracy: 0.8135 - val_loss: 0.4564 - val_categorical_accuracy: 0.7891\n",
      "Epoch 40/100\n",
      "26/26 [==============================] - 0s 8ms/step - loss: 0.4218 - categorical_accuracy: 0.8148 - val_loss: 0.4452 - val_categorical_accuracy: 0.7984\n",
      "Epoch 41/100\n",
      "26/26 [==============================] - 0s 8ms/step - loss: 0.4436 - categorical_accuracy: 0.8028 - val_loss: 0.4656 - val_categorical_accuracy: 0.7829\n",
      "Epoch 42/100\n",
      "26/26 [==============================] - 0s 8ms/step - loss: 0.4475 - categorical_accuracy: 0.8036 - val_loss: 0.5170 - val_categorical_accuracy: 0.7667\n",
      "Epoch 43/100\n",
      "26/26 [==============================] - 0s 8ms/step - loss: 0.4275 - categorical_accuracy: 0.8119 - val_loss: 0.5123 - val_categorical_accuracy: 0.7711\n",
      "Epoch 44/100\n",
      "26/26 [==============================] - 0s 9ms/step - loss: 0.4331 - categorical_accuracy: 0.8094 - val_loss: 0.5087 - val_categorical_accuracy: 0.7711\n",
      "Epoch 45/100\n",
      "26/26 [==============================] - 0s 8ms/step - loss: 0.4142 - categorical_accuracy: 0.8203 - val_loss: 0.5065 - val_categorical_accuracy: 0.7748\n",
      "Epoch 46/100\n",
      "26/26 [==============================] - 0s 8ms/step - loss: 0.4639 - categorical_accuracy: 0.7966 - val_loss: 0.4883 - val_categorical_accuracy: 0.7798\n",
      "Epoch 47/100\n",
      "26/26 [==============================] - 0s 8ms/step - loss: 0.4247 - categorical_accuracy: 0.8155 - val_loss: 0.4829 - val_categorical_accuracy: 0.7705\n",
      "Epoch 48/100\n",
      "26/26 [==============================] - 0s 8ms/step - loss: 0.4127 - categorical_accuracy: 0.8206 - val_loss: 0.4584 - val_categorical_accuracy: 0.7990\n",
      "Epoch 49/100\n",
      "26/26 [==============================] - 0s 8ms/step - loss: 0.4683 - categorical_accuracy: 0.7914 - val_loss: 0.4399 - val_categorical_accuracy: 0.8077\n",
      "Epoch 50/100\n"
     ]
    },
    {
     "name": "stdout",
     "output_type": "stream",
     "text": [
      "26/26 [==============================] - 0s 8ms/step - loss: 0.4126 - categorical_accuracy: 0.8190 - val_loss: 0.4665 - val_categorical_accuracy: 0.7903\n",
      "Epoch 51/100\n",
      "26/26 [==============================] - 0s 9ms/step - loss: 0.4169 - categorical_accuracy: 0.8162 - val_loss: 0.4488 - val_categorical_accuracy: 0.8002\n",
      "Epoch 52/100\n",
      "26/26 [==============================] - 0s 9ms/step - loss: 0.4223 - categorical_accuracy: 0.8144 - val_loss: 0.4722 - val_categorical_accuracy: 0.7804\n",
      "Epoch 53/100\n",
      "26/26 [==============================] - 0s 9ms/step - loss: 0.4416 - categorical_accuracy: 0.8051 - val_loss: 0.4405 - val_categorical_accuracy: 0.8052\n",
      "Epoch 54/100\n",
      "26/26 [==============================] - 0s 9ms/step - loss: 0.4231 - categorical_accuracy: 0.8138 - val_loss: 0.4587 - val_categorical_accuracy: 0.7860\n",
      "Epoch 55/100\n",
      "26/26 [==============================] - 0s 7ms/step - loss: 0.4253 - categorical_accuracy: 0.8115 - val_loss: 0.5281 - val_categorical_accuracy: 0.7711\n",
      "Epoch 56/100\n",
      "26/26 [==============================] - 0s 8ms/step - loss: 0.4123 - categorical_accuracy: 0.8204 - val_loss: 0.4429 - val_categorical_accuracy: 0.8071\n",
      "Epoch 57/100\n",
      "26/26 [==============================] - 0s 8ms/step - loss: 0.4444 - categorical_accuracy: 0.8049 - val_loss: 0.4383 - val_categorical_accuracy: 0.7990\n",
      "Epoch 58/100\n",
      "26/26 [==============================] - 0s 8ms/step - loss: 0.4283 - categorical_accuracy: 0.8111 - val_loss: 0.4993 - val_categorical_accuracy: 0.7748\n",
      "Epoch 59/100\n",
      "26/26 [==============================] - 0s 8ms/step - loss: 0.4137 - categorical_accuracy: 0.8225 - val_loss: 0.4716 - val_categorical_accuracy: 0.7903\n",
      "Epoch 60/100\n",
      "26/26 [==============================] - 0s 8ms/step - loss: 0.4415 - categorical_accuracy: 0.8066 - val_loss: 0.4670 - val_categorical_accuracy: 0.7940\n",
      "Epoch 61/100\n",
      "26/26 [==============================] - 0s 8ms/step - loss: 0.4176 - categorical_accuracy: 0.8164 - val_loss: 0.4534 - val_categorical_accuracy: 0.7971\n",
      "Epoch 62/100\n",
      "26/26 [==============================] - 0s 8ms/step - loss: 0.4136 - categorical_accuracy: 0.8195 - val_loss: 0.5679 - val_categorical_accuracy: 0.7395\n",
      "Epoch 63/100\n",
      "26/26 [==============================] - 0s 9ms/step - loss: 0.4331 - categorical_accuracy: 0.8138 - val_loss: 0.4584 - val_categorical_accuracy: 0.8015\n",
      "Epoch 64/100\n",
      "26/26 [==============================] - 0s 10ms/step - loss: 0.4137 - categorical_accuracy: 0.8179 - val_loss: 0.4453 - val_categorical_accuracy: 0.8015\n",
      "Epoch 65/100\n",
      "26/26 [==============================] - 0s 10ms/step - loss: 0.3972 - categorical_accuracy: 0.8265 - val_loss: 0.4819 - val_categorical_accuracy: 0.7792\n",
      "Epoch 66/100\n",
      "26/26 [==============================] - 0s 9ms/step - loss: 0.4134 - categorical_accuracy: 0.8176 - val_loss: 0.4510 - val_categorical_accuracy: 0.7903\n",
      "Epoch 67/100\n",
      "26/26 [==============================] - 0s 9ms/step - loss: 0.4143 - categorical_accuracy: 0.8183 - val_loss: 0.4763 - val_categorical_accuracy: 0.7990\n",
      "Epoch 68/100\n",
      "26/26 [==============================] - 0s 9ms/step - loss: 0.4135 - categorical_accuracy: 0.8161 - val_loss: 0.4430 - val_categorical_accuracy: 0.7965\n",
      "Epoch 69/100\n",
      "26/26 [==============================] - 0s 9ms/step - loss: 0.3931 - categorical_accuracy: 0.8296 - val_loss: 0.4762 - val_categorical_accuracy: 0.7761\n",
      "Epoch 70/100\n",
      "26/26 [==============================] - 0s 10ms/step - loss: 0.4166 - categorical_accuracy: 0.8186 - val_loss: 0.4476 - val_categorical_accuracy: 0.8015\n",
      "Epoch 71/100\n",
      "26/26 [==============================] - 0s 10ms/step - loss: 0.4190 - categorical_accuracy: 0.8163 - val_loss: 0.4333 - val_categorical_accuracy: 0.8083\n",
      "Epoch 72/100\n",
      "26/26 [==============================] - 0s 10ms/step - loss: 0.4118 - categorical_accuracy: 0.8223 - val_loss: 0.4356 - val_categorical_accuracy: 0.8077\n",
      "Epoch 73/100\n",
      "26/26 [==============================] - 0s 9ms/step - loss: 0.3942 - categorical_accuracy: 0.8304 - val_loss: 0.4570 - val_categorical_accuracy: 0.7947\n",
      "Epoch 74/100\n",
      "26/26 [==============================] - 0s 9ms/step - loss: 0.4070 - categorical_accuracy: 0.8234 - val_loss: 0.4405 - val_categorical_accuracy: 0.8083\n",
      "Epoch 75/100\n",
      "26/26 [==============================] - 0s 9ms/step - loss: 0.4225 - categorical_accuracy: 0.8138 - val_loss: 0.5675 - val_categorical_accuracy: 0.7599\n",
      "Epoch 76/100\n",
      "26/26 [==============================] - 0s 10ms/step - loss: 0.4256 - categorical_accuracy: 0.8164 - val_loss: 0.4340 - val_categorical_accuracy: 0.8089\n",
      "Epoch 77/100\n",
      "26/26 [==============================] - 0s 8ms/step - loss: 0.4329 - categorical_accuracy: 0.8079 - val_loss: 0.5358 - val_categorical_accuracy: 0.7581\n",
      "Epoch 78/100\n",
      "26/26 [==============================] - 0s 8ms/step - loss: 0.4047 - categorical_accuracy: 0.8238 - val_loss: 0.4643 - val_categorical_accuracy: 0.7829\n",
      "Epoch 79/100\n",
      "26/26 [==============================] - 0s 8ms/step - loss: 0.3928 - categorical_accuracy: 0.8314 - val_loss: 0.4828 - val_categorical_accuracy: 0.7785\n",
      "Epoch 80/100\n",
      "26/26 [==============================] - 0s 8ms/step - loss: 0.4057 - categorical_accuracy: 0.8238 - val_loss: 0.4754 - val_categorical_accuracy: 0.7947\n",
      "Epoch 81/100\n",
      "26/26 [==============================] - 0s 8ms/step - loss: 0.4220 - categorical_accuracy: 0.8131 - val_loss: 0.4800 - val_categorical_accuracy: 0.7909\n",
      "Epoch 82/100\n",
      "26/26 [==============================] - 0s 8ms/step - loss: 0.3998 - categorical_accuracy: 0.8252 - val_loss: 0.4532 - val_categorical_accuracy: 0.7903\n",
      "Epoch 83/100\n",
      "26/26 [==============================] - 0s 8ms/step - loss: 0.3901 - categorical_accuracy: 0.8304 - val_loss: 0.5506 - val_categorical_accuracy: 0.7519\n",
      "Epoch 84/100\n",
      "26/26 [==============================] - 0s 8ms/step - loss: 0.4237 - categorical_accuracy: 0.8101 - val_loss: 0.5668 - val_categorical_accuracy: 0.7643\n",
      "Epoch 85/100\n",
      "26/26 [==============================] - 0s 9ms/step - loss: 0.4084 - categorical_accuracy: 0.8179 - val_loss: 0.4739 - val_categorical_accuracy: 0.7854\n",
      "Epoch 86/100\n",
      "26/26 [==============================] - 0s 9ms/step - loss: 0.4241 - categorical_accuracy: 0.8108 - val_loss: 0.4458 - val_categorical_accuracy: 0.8058\n",
      "Epoch 87/100\n",
      "26/26 [==============================] - 0s 10ms/step - loss: 0.3911 - categorical_accuracy: 0.8345 - val_loss: 0.4585 - val_categorical_accuracy: 0.7866\n",
      "Epoch 88/100\n",
      "26/26 [==============================] - 0s 10ms/step - loss: 0.4145 - categorical_accuracy: 0.8172 - val_loss: 0.4523 - val_categorical_accuracy: 0.7947\n",
      "Epoch 89/100\n",
      "26/26 [==============================] - 0s 10ms/step - loss: 0.4066 - categorical_accuracy: 0.8221 - val_loss: 0.4731 - val_categorical_accuracy: 0.7860\n",
      "Epoch 90/100\n",
      "26/26 [==============================] - 0s 9ms/step - loss: 0.4050 - categorical_accuracy: 0.8182 - val_loss: 0.5045 - val_categorical_accuracy: 0.7624\n",
      "Epoch 91/100\n",
      "26/26 [==============================] - 0s 9ms/step - loss: 0.3923 - categorical_accuracy: 0.8299 - val_loss: 0.4344 - val_categorical_accuracy: 0.8158\n",
      "Epoch 92/100\n",
      "26/26 [==============================] - 0s 9ms/step - loss: 0.4009 - categorical_accuracy: 0.8269 - val_loss: 0.4448 - val_categorical_accuracy: 0.8021\n",
      "Epoch 93/100\n",
      "26/26 [==============================] - 0s 9ms/step - loss: 0.3909 - categorical_accuracy: 0.8327 - val_loss: 0.5285 - val_categorical_accuracy: 0.7512\n",
      "Epoch 94/100\n",
      "26/26 [==============================] - 0s 9ms/step - loss: 0.3970 - categorical_accuracy: 0.8239 - val_loss: 0.4795 - val_categorical_accuracy: 0.7940\n",
      "Epoch 95/100\n",
      "26/26 [==============================] - 0s 9ms/step - loss: 0.3991 - categorical_accuracy: 0.8255 - val_loss: 0.4581 - val_categorical_accuracy: 0.8021\n",
      "Epoch 96/100\n",
      "26/26 [==============================] - 0s 8ms/step - loss: 0.3902 - categorical_accuracy: 0.8296 - val_loss: 0.4688 - val_categorical_accuracy: 0.7878\n",
      "Epoch 97/100\n",
      "26/26 [==============================] - 0s 8ms/step - loss: 0.4376 - categorical_accuracy: 0.8056 - val_loss: 0.4973 - val_categorical_accuracy: 0.7841\n",
      "Epoch 98/100\n",
      "26/26 [==============================] - 0s 8ms/step - loss: 0.4061 - categorical_accuracy: 0.8207 - val_loss: 0.5714 - val_categorical_accuracy: 0.7388\n",
      "Epoch 99/100\n"
     ]
    },
    {
     "name": "stdout",
     "output_type": "stream",
     "text": [
      "26/26 [==============================] - 0s 8ms/step - loss: 0.4016 - categorical_accuracy: 0.8237 - val_loss: 0.5131 - val_categorical_accuracy: 0.7723\n",
      "Epoch 100/100\n",
      "26/26 [==============================] - 0s 8ms/step - loss: 0.3927 - categorical_accuracy: 0.8286 - val_loss: 0.4949 - val_categorical_accuracy: 0.7903\n"
     ]
    }
   ],
   "source": [
    "start_time = time.perf_counter()\n",
    "history = my_model.fit(instances_train,\n",
    "                       labels_train,\n",
    "                       batch_size=BATCH_SIZE,\n",
    "                       epochs=N_EPOCHS,\n",
    "                       verbose=1,\n",
    "                       validation_data=(instances_dev, labels_dev))\n",
    "end_time = time.perf_counter()"
   ]
  },
  {
   "cell_type": "markdown",
   "id": "bd228d29",
   "metadata": {},
   "source": [
    "## Step 7: Analyze results"
   ]
  },
  {
   "cell_type": "code",
   "execution_count": 11,
   "id": "97700599",
   "metadata": {
    "scrolled": true
   },
   "outputs": [
    {
     "data": {
      "image/png": "[encoded data removed]",
      "text/plain": [
       "<Figure size 800x500 with 1 Axes>"
      ]
     },
     "metadata": {},
     "output_type": "display_data"
    }
   ],
   "source": [
    "results=pd.DataFrame(history.history)\n",
    "results.plot(figsize=(8, 5))\n",
    "plt.grid(True)\n",
    "plt.xlabel (\"Epochs\")\n",
    "plt.ylabel (\"Accuracy - Mean Log Loss\")\n",
    "plt.gca().set_ylim(0, 1) # set the vertical range to [0-1]\n",
    "plt.show()"
   ]
  },
  {
   "cell_type": "code",
   "execution_count": 12,
   "id": "5cad1a6c",
   "metadata": {},
   "outputs": [
    {
     "name": "stdout",
     "output_type": "stream",
     "text": [
      "Error (training): 17.1 %\n",
      "Error (test): 21.0 %\n",
      "Bias: 12.1\n",
      "Variance: 3.9\n",
      "Time:  22 seconds\n"
     ]
    }
   ],
   "source": [
    "training_error = round((1 - results.categorical_accuracy.values[-1:][0])*100, 1)\n",
    "test_error = round((1 - results.val_categorical_accuracy.values[-1:][0])*100, 1)\n",
    "human_error = 5\n",
    "bias = round(training_error - human_error, 2)\n",
    "variance = round(test_error - training_error, 2)\n",
    "training_time = round(end_time - start_time)\n",
    "print(\"Error (training):\", training_error, \"%\")\n",
    "print(\"Error (test):\", test_error, \"%\")\n",
    "print(\"Bias:\", bias)\n",
    "print(\"Variance:\", variance)\n",
    "print(\"Time: \", training_time, \"seconds\")"
   ]
  },
  {
   "cell_type": "markdown",
   "id": "a8d2b1b3",
   "metadata": {},
   "source": [
    "## Step 8: Save results"
   ]
  },
  {
   "cell_type": "code",
   "execution_count": 13,
   "id": "d7356520",
   "metadata": {},
   "outputs": [],
   "source": [
    "RESULTS_FOLDER = \"../Results\"\n",
    "RESULTS_FILE = f\"{RESULTS_FOLDER}/models_performance.csv\""
   ]
  },
  {
   "cell_type": "code",
   "execution_count": 14,
   "id": "6c21ae16",
   "metadata": {},
   "outputs": [],
   "source": [
    "results_df = pd.read_csv(RESULTS_FILE, index_col = 0)"
   ]
  },
  {
   "cell_type": "code",
   "execution_count": 17,
   "id": "ca75b95f",
   "metadata": {},
   "outputs": [],
   "source": [
    "COLUMNS = [\n",
    "    'model_name',\n",
    "    'epochs',\n",
    "    'learning_rate',\n",
    "    'batch_size',\n",
    "    'activation',\n",
    "    'loss',\n",
    "    'optimizer',\n",
    "    'regularization',\n",
    "    'train_error',\n",
    "    'validation_error',\n",
    "    'bias',\n",
    "    'variance',\n",
    "    'training_time'\n",
    "]\n",
    "\n",
    "new_result = [[\n",
    "    model_name,\n",
    "    N_EPOCHS,\n",
    "    LEARNING_RATE,\n",
    "    BATCH_SIZE,\n",
    "    ACTIVATION,\n",
    "    \"categorical_crossentropy\",\n",
    "    \"SGD\",\n",
    "    None,\n",
    "    training_error,\n",
    "    test_error,\n",
    "    bias,\n",
    "    variance,\n",
    "    training_time]]\n",
    "\n",
    "new_result_df = pd.DataFrame(new_result, columns=COLUMNS)\n",
    "concatenation = pd.concat([results_df, new_result_df], ignore_index=True)\n",
    "concatenation.to_csv(RESULTS_FILE)"
   ]
  },
  {
   "cell_type": "code",
   "execution_count": 18,
   "id": "54046a26",
   "metadata": {},
   "outputs": [
    {
     "data": {
      "text/html": [
       "<div>\n",
       "<style scoped>\n",
       "    .dataframe tbody tr th:only-of-type {\n",
       "        vertical-align: middle;\n",
       "    }\n",
       "\n",
       "    .dataframe tbody tr th {\n",
       "        vertical-align: top;\n",
       "    }\n",
       "\n",
       "    .dataframe thead th {\n",
       "        text-align: right;\n",
       "    }\n",
       "</style>\n",
       "<table border=\"1\" class=\"dataframe\">\n",
       "  <thead>\n",
       "    <tr style=\"text-align: right;\">\n",
       "      <th></th>\n",
       "      <th>model_name</th>\n",
       "      <th>epochs</th>\n",
       "      <th>learning_rate</th>\n",
       "      <th>batch_size</th>\n",
       "      <th>activation</th>\n",
       "      <th>loss</th>\n",
       "      <th>optimizer</th>\n",
       "      <th>regularization</th>\n",
       "      <th>train_error</th>\n",
       "      <th>validation_error</th>\n",
       "      <th>bias</th>\n",
       "      <th>variance</th>\n",
       "      <th>training_time</th>\n",
       "    </tr>\n",
       "  </thead>\n",
       "  <tbody>\n",
       "    <tr>\n",
       "      <th>0</th>\n",
       "      <td>D512_D256_D64_D32</td>\n",
       "      <td>100</td>\n",
       "      <td>0.1</td>\n",
       "      <td>512</td>\n",
       "      <td>relu</td>\n",
       "      <td>categorical_crossentropy</td>\n",
       "      <td>SGD</td>\n",
       "      <td>NaN</td>\n",
       "      <td>18.1</td>\n",
       "      <td>18.8</td>\n",
       "      <td>13.1</td>\n",
       "      <td>0.7</td>\n",
       "      <td>21</td>\n",
       "    </tr>\n",
       "    <tr>\n",
       "      <th>1</th>\n",
       "      <td>D512_D256_D64_D32</td>\n",
       "      <td>100</td>\n",
       "      <td>0.1</td>\n",
       "      <td>512</td>\n",
       "      <td>relu</td>\n",
       "      <td>categorical_crossentropy</td>\n",
       "      <td>SGD</td>\n",
       "      <td>NaN</td>\n",
       "      <td>18.1</td>\n",
       "      <td>18.8</td>\n",
       "      <td>13.1</td>\n",
       "      <td>0.7</td>\n",
       "      <td>21</td>\n",
       "    </tr>\n",
       "    <tr>\n",
       "      <th>2</th>\n",
       "      <td>D512_D256_D64_D32</td>\n",
       "      <td>100</td>\n",
       "      <td>0.1</td>\n",
       "      <td>512</td>\n",
       "      <td>relu</td>\n",
       "      <td>categorical_crossentropy</td>\n",
       "      <td>SGD</td>\n",
       "      <td>None</td>\n",
       "      <td>17.1</td>\n",
       "      <td>21.0</td>\n",
       "      <td>12.1</td>\n",
       "      <td>3.9</td>\n",
       "      <td>22</td>\n",
       "    </tr>\n",
       "  </tbody>\n",
       "</table>\n",
       "</div>"
      ],
      "text/plain": [
       "          model_name  epochs  learning_rate  batch_size activation  \\\n",
       "0  D512_D256_D64_D32     100            0.1         512       relu   \n",
       "1  D512_D256_D64_D32     100            0.1         512       relu   \n",
       "2  D512_D256_D64_D32     100            0.1         512       relu   \n",
       "\n",
       "                       loss optimizer regularization  train_error  \\\n",
       "0  categorical_crossentropy       SGD            NaN         18.1   \n",
       "1  categorical_crossentropy       SGD            NaN         18.1   \n",
       "2  categorical_crossentropy       SGD           None         17.1   \n",
       "\n",
       "   validation_error  bias  variance  training_time  \n",
       "0              18.8  13.1       0.7             21  \n",
       "1              18.8  13.1       0.7             21  \n",
       "2              21.0  12.1       3.9             22  "
      ]
     },
     "execution_count": 18,
     "metadata": {},
     "output_type": "execute_result"
    }
   ],
   "source": [
    "concatenation.head()"
   ]
  },
  {
   "cell_type": "code",
   "execution_count": null,
   "id": "8f5653c3",
   "metadata": {},
   "outputs": [],
   "source": []
  }
 ],
 "metadata": {
  "kernelspec": {
   "display_name": "Python 3 (ipykernel)",
   "language": "python",
   "name": "python3"
  },
  "language_info": {
   "codemirror_mode": {
    "name": "ipython",
    "version": 3
   },
   "file_extension": ".py",
   "mimetype": "text/x-python",
   "name": "python",
   "nbconvert_exporter": "python",
   "pygments_lexer": "ipython3",
   "version": "3.10.4"
  }
 },
 "nbformat": 4,
 "nbformat_minor": 5
}
