{
 "cells": [
  {
   "cell_type": "markdown",
   "id": "67b87c7b",
   "metadata": {},
   "source": [
    "# FIFA Players Classification"
   ]
  },
  {
   "cell_type": "markdown",
   "id": "1e61cc03",
   "metadata": {},
   "source": [
    "This notebook contains the code to train models for the FIFA Classification problem based on their attributes"
   ]
  },
  {
   "cell_type": "markdown",
   "id": "621c2558",
   "metadata": {},
   "source": [
    "## Step 1: Import libraries"
   ]
  },
  {
   "cell_type": "markdown",
   "id": "3cbf14b6",
   "metadata": {},
   "source": [
    "Libraries we will be using:\n",
    "- **tensorflow** and **keras**: APIs for neural network model construction and training\n",
    "- **numpy**: Numerical python library.\n",
    "- **pandas**: Will be used to work with dataframes from .csv files.\n",
    "- **sklearn**: Will be used to modify the labels of the data and do some statistical modifications.\n",
    "- **matplotlib**: Will be used to plot graphics.\n",
    "- **time**: To measure training time.\n",
    "- **datetime**: To get the datetime a new model is created and use that to create its name"
   ]
  },
  {
   "cell_type": "code",
   "execution_count": 1,
   "id": "d511f3c7",
   "metadata": {},
   "outputs": [],
   "source": [
    "import tensorflow as tf\n",
    "from tensorflow import keras\n",
    "import numpy as np\n",
    "import pandas as pd\n",
    "import matplotlib.pyplot as plt\n",
    "import time\n",
    "from datetime import datetime"
   ]
  },
  {
   "cell_type": "markdown",
   "id": "7247c728",
   "metadata": {},
   "source": [
    "## Step 2: Load data"
   ]
  },
  {
   "cell_type": "markdown",
   "id": "ae528225",
   "metadata": {},
   "source": [
    "We first define the path to our data"
   ]
  },
  {
   "cell_type": "code",
   "execution_count": 2,
   "id": "ebf49033",
   "metadata": {},
   "outputs": [],
   "source": [
    "DATA_FOLDER = \"../Data\"\n",
    "\n",
    "ATT_FILE = f\"{DATA_FOLDER}/FootballPlayerPreparedCleanAttributes.csv\"\n",
    "IMPUTED_ATT_FILE = f\"{DATA_FOLDER}/ImputedFootballPlayerPreparedCleanAttributes.csv\"\n",
    "\n",
    "ONE_HOT_LABEL_FILE = f\"{DATA_FOLDER}/FootballPlayerOneHotEncodedClasses.csv\"\n",
    "IMPUTED_ONE_HOT_LABEL_FILE = f\"{DATA_FOLDER}/ImputedFootballPlayerPreparedCleanAttributes.csv\""
   ]
  },
  {
   "cell_type": "markdown",
   "id": "e47c5b59",
   "metadata": {},
   "source": [
    "Specify training options:\n",
    "- **IMPUTED_DATA**: We will use file with data imputed\n",
    "- **TRAIN_RATE**: The amount of instances to use during training, it will also determine the dev and test instances number indirectly"
   ]
  },
  {
   "cell_type": "code",
   "execution_count": 3,
   "id": "492fb849",
   "metadata": {},
   "outputs": [],
   "source": [
    "IMPUTED_DATA = False    # Use imputed dataset\n",
    "TRAIN_RATE = 0.8        # The division of the data for training, validation and test"
   ]
  },
  {
   "cell_type": "markdown",
   "id": "2591a7be",
   "metadata": {},
   "source": [
    "Because our data has more than 10000, we will be using 80-10-10 split in our dataset:\n",
    "- **80%** for training\n",
    "- **10%** for validation/dev test\n",
    "- **10%** for final test"
   ]
  },
  {
   "cell_type": "code",
   "execution_count": 4,
   "id": "7c30464b",
   "metadata": {},
   "outputs": [
    {
     "name": "stdout",
     "output_type": "stream",
     "text": [
      "instances_train: (12897, 17)\n",
      "labels_train: (12897, 4)\n",
      "instances_dev: (1612, 17)\n",
      "labels_dev: (1612, 4)\n"
     ]
    }
   ],
   "source": [
    "if IMPUTED_DATA:\n",
    "    attributes = pd.read_csv(ATT_IMPUTED_FILE)\n",
    "    labels = pd.read_csv(ONE_HOT_LABEL_IMPUTED_FILE)\n",
    "else:\n",
    "    attributes = pd.read_csv(ATT_FILE)\n",
    "    labels = pd.read_csv(ONE_HOT_LABEL_FILE)\n",
    "\n",
    "n_total_instances = attributes.shape[0]\n",
    "n_train_instances = int(n_total_instances * TRAIN_RATE)\n",
    "n_dev_instances = int((n_total_instances - n_train_instances)/2)\n",
    "\n",
    "instances_train = attributes.values[:n_train_instances]\n",
    "labels_train = labels.values[:n_train_instances]\n",
    "\n",
    "instances_dev = attributes.values[n_train_instances: n_train_instances + n_dev_instances]\n",
    "labels_dev = labels.values[n_train_instances: n_train_instances + n_dev_instances]\n",
    "\n",
    "print(\"instances_train:\", instances_train.shape)\n",
    "print(\"labels_train:\", labels_train.shape)\n",
    "print(\"instances_dev:\", instances_dev.shape)\n",
    "print(\"labels_dev:\",labels_dev.shape)"
   ]
  },
  {
   "cell_type": "markdown",
   "id": "409e971c",
   "metadata": {},
   "source": [
    "## Step 3: Initialize variables\n",
    "- **INPUT_SIZE**: The size of the training instances\n",
    "- **OUTPUT_SIZE**: The number of possible classes\n",
    "- **NUM_TRAINING_EXAMPLES**: The number of possible classes\n",
    "- **NUM_DEV_EXAMPLES**: The number of validation/dev test instances"
   ]
  },
  {
   "cell_type": "code",
   "execution_count": 5,
   "id": "c9dee8f0",
   "metadata": {},
   "outputs": [],
   "source": [
    "INPUT_SIZE = instances_train.shape[1]\n",
    "OUTPUT_SIZE = labels_train.shape[1]\n",
    "NUM_TRAINING_EXAMPLES = int(round(instances_train.shape[0]/1))\n",
    "NUM_DEV_EXAMPLES = int(round(instances_dev.shape[0]/1))"
   ]
  },
  {
   "cell_type": "markdown",
   "id": "187e87f8",
   "metadata": {},
   "source": [
    "## Step 4: Set hyperparameters"
   ]
  },
  {
   "cell_type": "markdown",
   "id": "3930c053",
   "metadata": {},
   "source": [
    "- **LEARNING_RATE** $\\alpha$: The step size in the learning process\n",
    "- **BATCH_SIZE**: The size of each batch\n",
    "- **N_HIDDEN**: Number of neurons in the hidden.\n",
    "\n",
    "The learning process stops when it reaches 20,000 learning iterations. An iteration comprises presenting the network *batch_size* learning examples and then adjusting the weights (parameters)."
   ]
  },
  {
   "cell_type": "code",
   "execution_count": 6,
   "id": "2c7ff322",
   "metadata": {},
   "outputs": [],
   "source": [
    "N_EPOCHS = 400\n",
    "LEARNING_RATE = 0.1\n",
    "BATCH_SIZE = 128\n",
    "ACTIVATION = \"tanh\"\n",
    "N_HIDDEN = [128, 64, 32]\n",
    "REGULARIZER = keras.regularizers.l2(0.001)\n",
    "LOSS = tf.keras.losses.categorical_crossentropy\n",
    "OPTIMIZER = tf.keras.optimizers.SGD(learning_rate=LEARNING_RATE)\n",
    "METRICS = [\"categorical_accuracy\"]"
   ]
  },
  {
   "cell_type": "markdown",
   "id": "caedd6ca",
   "metadata": {},
   "source": [
    "## Step 5: Build the model"
   ]
  },
  {
   "cell_type": "code",
   "execution_count": 7,
   "id": "a55e794c",
   "metadata": {},
   "outputs": [],
   "source": [
    "def architecture1():\n",
    "    model = keras.Sequential(name=\"Model\")\n",
    "    model.add(keras.layers.InputLayer(input_shape=(INPUT_SIZE,), batch_size=None))\n",
    "    for neurons in N_HIDDEN:\n",
    "        model.add(keras.layers.Dense(neurons, activation=ACTIVATION))\n",
    "    model.add(keras.layers.Dense(OUTPUT_SIZE, activation=\"softmax\"))\n",
    "    \n",
    "    model_name = \"D512\"\n",
    "    return model, model_name\n",
    "\n",
    "\n",
    "def architecture2():\n",
    "    model = keras.Sequential(name=\"Model\")\n",
    "    model.add(keras.layers.InputLayer(input_shape=(INPUT_SIZE,),\n",
    "                                      batch_size=None))\n",
    "    for neurons in N_HIDDEN:\n",
    "        model.add(keras.layers.Dense(neurons,\n",
    "                                     activation=ACTIVATION,\n",
    "                                     kernel_regularizer=REGULARIZER\n",
    "                                    ))\n",
    "        \n",
    "    model.add(keras.layers.Dense(OUTPUT_SIZE, \n",
    "                                 activation=\"softmax\"))\n",
    "    \n",
    "    model_name = \"D128_D64_D32\"\n",
    "    return model, model_name\n",
    "\n",
    "\n",
    "def compile_model(model):\n",
    "    my_model.compile(loss=LOSS,\n",
    "                     optimizer=OPTIMIZER,\n",
    "                     metrics=METRICS)"
   ]
  },
  {
   "cell_type": "code",
   "execution_count": 8,
   "id": "e3ca1ab4",
   "metadata": {},
   "outputs": [],
   "source": [
    "my_model, model_name = architecture2()"
   ]
  },
  {
   "cell_type": "code",
   "execution_count": 9,
   "id": "eaaf5ebf",
   "metadata": {},
   "outputs": [],
   "source": [
    "compile_model(my_model)"
   ]
  },
  {
   "cell_type": "markdown",
   "id": "ff9caedf",
   "metadata": {},
   "source": [
    "## Step 6: Train the model"
   ]
  },
  {
   "cell_type": "code",
   "execution_count": null,
   "id": "3635335a",
   "metadata": {},
   "outputs": [
    {
     "name": "stdout",
     "output_type": "stream",
     "text": [
      "Epoch 1/400\n",
      "101/101 [==============================] - 2s 6ms/step - loss: 1.0238 - categorical_accuracy: 0.6158 - val_loss: 0.9025 - val_categorical_accuracy: 0.6445\n",
      "Epoch 2/400\n",
      "101/101 [==============================] - 0s 4ms/step - loss: 0.8437 - categorical_accuracy: 0.6956 - val_loss: 0.8465 - val_categorical_accuracy: 0.6942\n",
      "Epoch 3/400\n",
      "101/101 [==============================] - 0s 4ms/step - loss: 0.7999 - categorical_accuracy: 0.7107 - val_loss: 0.8061 - val_categorical_accuracy: 0.6929\n",
      "Epoch 4/400\n",
      "101/101 [==============================] - 0s 4ms/step - loss: 0.7601 - categorical_accuracy: 0.7268 - val_loss: 0.7548 - val_categorical_accuracy: 0.7196\n",
      "Epoch 5/400\n",
      "101/101 [==============================] - 0s 4ms/step - loss: 0.7218 - categorical_accuracy: 0.7428 - val_loss: 0.7179 - val_categorical_accuracy: 0.7364\n",
      "Epoch 6/400\n",
      "101/101 [==============================] - 0s 4ms/step - loss: 0.6931 - categorical_accuracy: 0.7549 - val_loss: 0.6970 - val_categorical_accuracy: 0.7450\n",
      "Epoch 7/400\n",
      "101/101 [==============================] - 0s 4ms/step - loss: 0.6739 - categorical_accuracy: 0.7622 - val_loss: 0.6777 - val_categorical_accuracy: 0.7488\n",
      "Epoch 8/400\n",
      "101/101 [==============================] - 0s 4ms/step - loss: 0.6582 - categorical_accuracy: 0.7696 - val_loss: 0.6690 - val_categorical_accuracy: 0.7574\n",
      "Epoch 9/400\n",
      "101/101 [==============================] - 0s 4ms/step - loss: 0.6475 - categorical_accuracy: 0.7731 - val_loss: 0.6860 - val_categorical_accuracy: 0.7413\n",
      "Epoch 10/400\n",
      "101/101 [==============================] - 0s 4ms/step - loss: 0.6418 - categorical_accuracy: 0.7717 - val_loss: 0.6435 - val_categorical_accuracy: 0.7643\n",
      "Epoch 11/400\n",
      "101/101 [==============================] - 0s 4ms/step - loss: 0.6362 - categorical_accuracy: 0.7734 - val_loss: 0.6502 - val_categorical_accuracy: 0.7562\n",
      "Epoch 12/400\n",
      "101/101 [==============================] - 0s 4ms/step - loss: 0.6311 - categorical_accuracy: 0.7744 - val_loss: 0.6893 - val_categorical_accuracy: 0.7364\n",
      "Epoch 13/400\n",
      "101/101 [==============================] - 0s 4ms/step - loss: 0.6211 - categorical_accuracy: 0.7765 - val_loss: 0.6222 - val_categorical_accuracy: 0.7699\n",
      "Epoch 14/400\n",
      "101/101 [==============================] - 0s 4ms/step - loss: 0.6169 - categorical_accuracy: 0.7773 - val_loss: 0.6285 - val_categorical_accuracy: 0.7655\n",
      "Epoch 15/400\n",
      "101/101 [==============================] - 0s 4ms/step - loss: 0.6100 - categorical_accuracy: 0.7785 - val_loss: 0.6232 - val_categorical_accuracy: 0.7667\n",
      "Epoch 16/400\n",
      "101/101 [==============================] - 0s 4ms/step - loss: 0.6023 - categorical_accuracy: 0.7820 - val_loss: 0.6168 - val_categorical_accuracy: 0.7711\n",
      "Epoch 17/400\n",
      "101/101 [==============================] - 0s 4ms/step - loss: 0.5982 - categorical_accuracy: 0.7829 - val_loss: 0.6156 - val_categorical_accuracy: 0.7661\n",
      "Epoch 18/400\n",
      "101/101 [==============================] - 0s 4ms/step - loss: 0.5924 - categorical_accuracy: 0.7833 - val_loss: 0.5898 - val_categorical_accuracy: 0.7847\n",
      "Epoch 19/400\n",
      "101/101 [==============================] - 0s 4ms/step - loss: 0.5785 - categorical_accuracy: 0.7882 - val_loss: 0.5903 - val_categorical_accuracy: 0.7773\n",
      "Epoch 20/400\n",
      "101/101 [==============================] - 1s 5ms/step - loss: 0.5799 - categorical_accuracy: 0.7853 - val_loss: 0.5904 - val_categorical_accuracy: 0.7705\n",
      "Epoch 21/400\n",
      "101/101 [==============================] - 1s 5ms/step - loss: 0.5623 - categorical_accuracy: 0.7951 - val_loss: 0.5690 - val_categorical_accuracy: 0.7829\n",
      "Epoch 22/400\n",
      "101/101 [==============================] - 1s 6ms/step - loss: 0.5649 - categorical_accuracy: 0.7917 - val_loss: 0.5631 - val_categorical_accuracy: 0.7872\n",
      "Epoch 23/400\n",
      "101/101 [==============================] - 1s 6ms/step - loss: 0.5556 - categorical_accuracy: 0.7964 - val_loss: 0.5985 - val_categorical_accuracy: 0.7618\n",
      "Epoch 24/400\n",
      "101/101 [==============================] - 1s 6ms/step - loss: 0.5609 - categorical_accuracy: 0.7924 - val_loss: 0.5823 - val_categorical_accuracy: 0.7667\n",
      "Epoch 25/400\n",
      "101/101 [==============================] - 1s 6ms/step - loss: 0.5468 - categorical_accuracy: 0.8006 - val_loss: 0.5551 - val_categorical_accuracy: 0.7897\n",
      "Epoch 26/400\n",
      "101/101 [==============================] - 1s 6ms/step - loss: 0.5540 - categorical_accuracy: 0.7969 - val_loss: 0.5565 - val_categorical_accuracy: 0.7847\n",
      "Epoch 27/400\n",
      "101/101 [==============================] - 1s 6ms/step - loss: 0.5444 - categorical_accuracy: 0.7986 - val_loss: 0.5534 - val_categorical_accuracy: 0.7798\n",
      "Epoch 28/400\n",
      "101/101 [==============================] - 1s 6ms/step - loss: 0.5412 - categorical_accuracy: 0.7990 - val_loss: 0.5469 - val_categorical_accuracy: 0.7971\n",
      "Epoch 29/400\n",
      "101/101 [==============================] - 1s 6ms/step - loss: 0.5430 - categorical_accuracy: 0.7986 - val_loss: 0.5523 - val_categorical_accuracy: 0.7916\n",
      "Epoch 30/400\n",
      "101/101 [==============================] - 1s 6ms/step - loss: 0.5381 - categorical_accuracy: 0.7984 - val_loss: 0.5486 - val_categorical_accuracy: 0.7798\n",
      "Epoch 31/400\n",
      "101/101 [==============================] - 1s 6ms/step - loss: 0.5310 - categorical_accuracy: 0.8022 - val_loss: 0.5502 - val_categorical_accuracy: 0.7736\n",
      "Epoch 32/400\n",
      "101/101 [==============================] - 1s 6ms/step - loss: 0.5349 - categorical_accuracy: 0.7973 - val_loss: 0.5436 - val_categorical_accuracy: 0.7928\n",
      "Epoch 33/400\n",
      "101/101 [==============================] - 1s 6ms/step - loss: 0.5290 - categorical_accuracy: 0.8001 - val_loss: 0.5523 - val_categorical_accuracy: 0.7934\n",
      "Epoch 34/400\n",
      "101/101 [==============================] - 1s 6ms/step - loss: 0.5296 - categorical_accuracy: 0.8014 - val_loss: 0.5556 - val_categorical_accuracy: 0.7785\n",
      "Epoch 35/400\n",
      "101/101 [==============================] - 1s 6ms/step - loss: 0.5260 - categorical_accuracy: 0.7993 - val_loss: 0.5432 - val_categorical_accuracy: 0.7792\n",
      "Epoch 36/400\n",
      "101/101 [==============================] - 1s 6ms/step - loss: 0.5226 - categorical_accuracy: 0.8006 - val_loss: 0.5371 - val_categorical_accuracy: 0.7891\n",
      "Epoch 37/400\n",
      "101/101 [==============================] - 1s 6ms/step - loss: 0.5208 - categorical_accuracy: 0.8007 - val_loss: 0.5335 - val_categorical_accuracy: 0.7804\n",
      "Epoch 38/400\n",
      "101/101 [==============================] - 1s 6ms/step - loss: 0.5209 - categorical_accuracy: 0.8012 - val_loss: 0.5310 - val_categorical_accuracy: 0.7885\n",
      "Epoch 39/400\n",
      "101/101 [==============================] - 1s 6ms/step - loss: 0.5178 - categorical_accuracy: 0.8019 - val_loss: 0.5331 - val_categorical_accuracy: 0.7829\n",
      "Epoch 40/400\n",
      "101/101 [==============================] - 1s 6ms/step - loss: 0.5179 - categorical_accuracy: 0.8027 - val_loss: 0.5409 - val_categorical_accuracy: 0.7897\n",
      "Epoch 41/400\n",
      "101/101 [==============================] - 1s 6ms/step - loss: 0.5178 - categorical_accuracy: 0.8028 - val_loss: 0.5257 - val_categorical_accuracy: 0.7947\n",
      "Epoch 42/400\n",
      "101/101 [==============================] - 1s 6ms/step - loss: 0.5154 - categorical_accuracy: 0.8031 - val_loss: 0.5290 - val_categorical_accuracy: 0.7878\n",
      "Epoch 43/400\n",
      "101/101 [==============================] - 1s 6ms/step - loss: 0.5121 - categorical_accuracy: 0.8040 - val_loss: 0.5211 - val_categorical_accuracy: 0.7909\n",
      "Epoch 44/400\n",
      "101/101 [==============================] - 1s 6ms/step - loss: 0.5146 - categorical_accuracy: 0.8017 - val_loss: 0.5174 - val_categorical_accuracy: 0.7947\n",
      "Epoch 45/400\n",
      "101/101 [==============================] - 1s 6ms/step - loss: 0.5118 - categorical_accuracy: 0.8036 - val_loss: 0.5188 - val_categorical_accuracy: 0.7872\n",
      "Epoch 46/400\n",
      "101/101 [==============================] - 1s 6ms/step - loss: 0.5088 - categorical_accuracy: 0.8017 - val_loss: 0.5268 - val_categorical_accuracy: 0.7785\n",
      "Epoch 47/400\n",
      "101/101 [==============================] - 1s 6ms/step - loss: 0.5082 - categorical_accuracy: 0.8045 - val_loss: 0.5183 - val_categorical_accuracy: 0.7965\n",
      "Epoch 48/400\n",
      "101/101 [==============================] - 1s 6ms/step - loss: 0.5084 - categorical_accuracy: 0.8009 - val_loss: 0.5446 - val_categorical_accuracy: 0.7717\n",
      "Epoch 49/400\n",
      "101/101 [==============================] - 1s 6ms/step - loss: 0.5042 - categorical_accuracy: 0.8012 - val_loss: 0.5752 - val_categorical_accuracy: 0.7630\n"
     ]
    },
    {
     "name": "stdout",
     "output_type": "stream",
     "text": [
      "Epoch 50/400\n",
      "101/101 [==============================] - 1s 6ms/step - loss: 0.5094 - categorical_accuracy: 0.8002 - val_loss: 0.5502 - val_categorical_accuracy: 0.7574\n",
      "Epoch 51/400\n",
      "101/101 [==============================] - 1s 6ms/step - loss: 0.5007 - categorical_accuracy: 0.8046 - val_loss: 0.5428 - val_categorical_accuracy: 0.7730\n",
      "Epoch 52/400\n",
      "101/101 [==============================] - 1s 6ms/step - loss: 0.5075 - categorical_accuracy: 0.8030 - val_loss: 0.5098 - val_categorical_accuracy: 0.7959\n",
      "Epoch 53/400\n",
      "101/101 [==============================] - 1s 6ms/step - loss: 0.5026 - categorical_accuracy: 0.8046 - val_loss: 0.5345 - val_categorical_accuracy: 0.7748\n",
      "Epoch 54/400\n",
      "101/101 [==============================] - 1s 6ms/step - loss: 0.4997 - categorical_accuracy: 0.8050 - val_loss: 0.5360 - val_categorical_accuracy: 0.7748\n",
      "Epoch 55/400\n",
      "101/101 [==============================] - 1s 6ms/step - loss: 0.5038 - categorical_accuracy: 0.8042 - val_loss: 0.5156 - val_categorical_accuracy: 0.7854\n",
      "Epoch 56/400\n",
      "101/101 [==============================] - 1s 6ms/step - loss: 0.5039 - categorical_accuracy: 0.8048 - val_loss: 0.5178 - val_categorical_accuracy: 0.7885\n",
      "Epoch 57/400\n",
      "101/101 [==============================] - 1s 6ms/step - loss: 0.5006 - categorical_accuracy: 0.8003 - val_loss: 0.5255 - val_categorical_accuracy: 0.7922\n",
      "Epoch 58/400\n",
      "101/101 [==============================] - 1s 6ms/step - loss: 0.4998 - categorical_accuracy: 0.8024 - val_loss: 0.5161 - val_categorical_accuracy: 0.7872\n",
      "Epoch 59/400\n",
      "101/101 [==============================] - 1s 6ms/step - loss: 0.4974 - categorical_accuracy: 0.8059 - val_loss: 0.5444 - val_categorical_accuracy: 0.7655\n",
      "Epoch 60/400\n",
      "101/101 [==============================] - 1s 6ms/step - loss: 0.4944 - categorical_accuracy: 0.8050 - val_loss: 0.5132 - val_categorical_accuracy: 0.7934\n",
      "Epoch 61/400\n",
      "101/101 [==============================] - 1s 6ms/step - loss: 0.4974 - categorical_accuracy: 0.8024 - val_loss: 0.5229 - val_categorical_accuracy: 0.7767\n",
      "Epoch 62/400\n",
      "101/101 [==============================] - 1s 6ms/step - loss: 0.4970 - categorical_accuracy: 0.8037 - val_loss: 0.5065 - val_categorical_accuracy: 0.7996\n",
      "Epoch 63/400\n",
      "101/101 [==============================] - 1s 6ms/step - loss: 0.4955 - categorical_accuracy: 0.8039 - val_loss: 0.5196 - val_categorical_accuracy: 0.7854\n",
      "Epoch 64/400\n",
      "101/101 [==============================] - 1s 6ms/step - loss: 0.4946 - categorical_accuracy: 0.8049 - val_loss: 0.5055 - val_categorical_accuracy: 0.7990\n",
      "Epoch 65/400\n",
      "101/101 [==============================] - 1s 6ms/step - loss: 0.4982 - categorical_accuracy: 0.8034 - val_loss: 0.5094 - val_categorical_accuracy: 0.7866\n",
      "Epoch 66/400\n",
      "101/101 [==============================] - 1s 6ms/step - loss: 0.4951 - categorical_accuracy: 0.8056 - val_loss: 0.5236 - val_categorical_accuracy: 0.7934\n",
      "Epoch 67/400\n",
      "101/101 [==============================] - 1s 6ms/step - loss: 0.4930 - categorical_accuracy: 0.8037 - val_loss: 0.5116 - val_categorical_accuracy: 0.7959\n",
      "Epoch 68/400\n",
      "101/101 [==============================] - 1s 6ms/step - loss: 0.4943 - categorical_accuracy: 0.8010 - val_loss: 0.5224 - val_categorical_accuracy: 0.7922\n",
      "Epoch 69/400\n",
      "101/101 [==============================] - 1s 6ms/step - loss: 0.4933 - categorical_accuracy: 0.8022 - val_loss: 0.5067 - val_categorical_accuracy: 0.7965\n",
      "Epoch 70/400\n",
      "101/101 [==============================] - 1s 6ms/step - loss: 0.4894 - categorical_accuracy: 0.8039 - val_loss: 0.4985 - val_categorical_accuracy: 0.7959\n",
      "Epoch 71/400\n",
      "101/101 [==============================] - 1s 6ms/step - loss: 0.4911 - categorical_accuracy: 0.8027 - val_loss: 0.5049 - val_categorical_accuracy: 0.7909\n",
      "Epoch 72/400\n",
      "101/101 [==============================] - 1s 6ms/step - loss: 0.4900 - categorical_accuracy: 0.8034 - val_loss: 0.4998 - val_categorical_accuracy: 0.7928\n",
      "Epoch 73/400\n",
      " 51/101 [==============>...............] - ETA: 0s - loss: 0.4871 - categorical_accuracy: 0.8039"
     ]
    }
   ],
   "source": [
    "start_time = time.perf_counter()\n",
    "history = my_model.fit(instances_train,\n",
    "                       labels_train,\n",
    "                       batch_size=BATCH_SIZE,\n",
    "                       epochs=N_EPOCHS,\n",
    "                       verbose=1,\n",
    "                       validation_data=(instances_dev, labels_dev))\n",
    "end_time = time.perf_counter()"
   ]
  },
  {
   "cell_type": "markdown",
   "id": "bcc5cc2c",
   "metadata": {},
   "source": [
    "## Step 7: Analyze results"
   ]
  },
  {
   "cell_type": "code",
   "execution_count": null,
   "id": "3b566a5b",
   "metadata": {
    "scrolled": true
   },
   "outputs": [],
   "source": [
    "results=pd.DataFrame(history.history)\n",
    "results.plot(figsize=(8, 5))\n",
    "plt.grid(True)\n",
    "plt.xlabel (\"Epochs\")\n",
    "plt.ylabel (\"Accuracy - Mean Log Loss\")\n",
    "plt.gca().set_ylim(0, 1) # set the vertical range to [0-1]\n",
    "plt.show()"
   ]
  },
  {
   "cell_type": "code",
   "execution_count": null,
   "id": "70714e6d",
   "metadata": {},
   "outputs": [],
   "source": [
    "training_accuracy = round(results.categorical_accuracy.values[-1:][0]*100, 2)\n",
    "val_accuracy = round(results.val_categorical_accuracy.values[-1:][0]*100, 2)\n",
    "training_error = round((1 - results.categorical_accuracy.values[-1:][0])*100, 2)\n",
    "test_error = round((1 - results.val_categorical_accuracy.values[-1:][0])*100, 2)\n",
    "human_error = 5\n",
    "bias = round(training_error - human_error, 2)\n",
    "variance = round(test_error - training_error, 2)\n",
    "training_time = round(end_time - start_time)\n",
    "print(\"Error (training):\", training_error, \"%\")\n",
    "print(\"Error (test):\", test_error, \"%\")\n",
    "print(\"Bias:\", bias)\n",
    "print(\"Variance:\", variance)\n",
    "print(\"Time: \", training_time, \"seconds\")"
   ]
  },
  {
   "cell_type": "markdown",
   "id": "ba84dc10",
   "metadata": {},
   "source": [
    "## Step 8: Save results"
   ]
  },
  {
   "cell_type": "code",
   "execution_count": null,
   "id": "e2a6d150",
   "metadata": {},
   "outputs": [],
   "source": [
    "RESULTS_FOLDER = \"../Results\"\n",
    "RESULTS_FILE = f\"{RESULTS_FOLDER}/models_performance.csv\""
   ]
  },
  {
   "cell_type": "code",
   "execution_count": null,
   "id": "fb5b0823",
   "metadata": {},
   "outputs": [],
   "source": [
    "results_df = pd.read_csv(RESULTS_FILE, index_col = 0)"
   ]
  },
  {
   "cell_type": "code",
   "execution_count": null,
   "id": "68e0d128",
   "metadata": {},
   "outputs": [],
   "source": [
    "COLUMNS = [\n",
    "    'model_name',\n",
    "    'epochs',\n",
    "    'learning_rate',\n",
    "    'batch_size',\n",
    "    'activation',\n",
    "    'loss',\n",
    "    'optimizer',\n",
    "    'regularization',\n",
    "    'train_accuracy',\n",
    "    'validation_accuracy',\n",
    "    'bias',\n",
    "    'variance',\n",
    "    'training_time'\n",
    "]\n",
    "\n",
    "new_result = [[\n",
    "    model_name,\n",
    "    N_EPOCHS,\n",
    "    LEARNING_RATE,\n",
    "    BATCH_SIZE,\n",
    "    ACTIVATION,\n",
    "    \"categorical_crossentropy\",\n",
    "    \"SGD\",\n",
    "    \"l2 0.001\",\n",
    "    training_accuracy,\n",
    "    val_accuracy,\n",
    "    bias,\n",
    "    variance,\n",
    "    training_time]]\n",
    "\n",
    "new_result_df = pd.DataFrame(new_result, columns=COLUMNS)\n",
    "concatenation = pd.concat([results_df, new_result_df], ignore_index=True)\n",
    "concatenation.to_csv(RESULTS_FILE)\n"
   ]
  },
  {
   "cell_type": "code",
   "execution_count": null,
   "id": "47a9f47a",
   "metadata": {},
   "outputs": [],
   "source": [
    "last_five = concatenation.tail(5)\n",
    "print(last_five)\n",
    "print(\"\\n---Metrics---\")\n",
    "print(last_five[[\"train_accuracy\", \"validation_accuracy\", \"bias\", \"variance\", \"training_time\"]].describe())"
   ]
  },
  {
   "cell_type": "code",
   "execution_count": null,
   "id": "f1b7804b",
   "metadata": {},
   "outputs": [],
   "source": [
    "MODELS_FOLDER = \"../Models\"\n",
    "save_name = f\"{MODELS_FOLDER}/{model_name}-1.h5\"\n",
    "my_model.save(save_name)"
   ]
  },
  {
   "cell_type": "code",
   "execution_count": null,
   "id": "edeacd8f",
   "metadata": {},
   "outputs": [],
   "source": []
  },
  {
   "cell_type": "code",
   "execution_count": null,
   "id": "1b2a285d",
   "metadata": {},
   "outputs": [],
   "source": []
  }
 ],
 "metadata": {
  "kernelspec": {
   "display_name": "Python 3 (ipykernel)",
   "language": "python",
   "name": "python3"
  },
  "language_info": {
   "codemirror_mode": {
    "name": "ipython",
    "version": 3
   },
   "file_extension": ".py",
   "mimetype": "text/x-python",
   "name": "python",
   "nbconvert_exporter": "python",
   "pygments_lexer": "ipython3",
   "version": "3.10.4"
  }
 },
 "nbformat": 4,
 "nbformat_minor": 5
}
