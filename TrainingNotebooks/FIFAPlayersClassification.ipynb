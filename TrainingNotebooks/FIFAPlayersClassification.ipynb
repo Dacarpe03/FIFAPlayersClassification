{
 "cells": [
  {
   "cell_type": "markdown",
   "id": "55e1d353",
   "metadata": {},
   "source": [
    "# FIFA Players Classification"
   ]
  },
  {
   "cell_type": "markdown",
   "id": "4f70986c",
   "metadata": {},
   "source": [
    "This notebook contains the code to train models for the FIFA Classification problem based on their attributes"
   ]
  },
  {
   "cell_type": "markdown",
   "id": "74a2ffd1",
   "metadata": {},
   "source": [
    "## Step 1: Import libraries"
   ]
  },
  {
   "cell_type": "markdown",
   "id": "1499b185",
   "metadata": {},
   "source": [
    "Libraries we will be using:\n",
    "- **tensorflow** and **keras**: APIs for neural network model construction and training\n",
    "- **numpy**: Numerical python library.\n",
    "- **pandas**: Will be used to work with dataframes from .csv files.\n",
    "- **sklearn**: Will be used to modify the labels of the data and do some statistical modifications.\n",
    "- **matplotlib**: Will be used to plot graphics.\n",
    "- **time**: To measure training time.\n",
    "- **datetime**: To get the datetime a new model is created and use that to create its name"
   ]
  },
  {
   "cell_type": "code",
   "execution_count": 1,
   "id": "f18b602e",
   "metadata": {},
   "outputs": [],
   "source": [
    "import tensorflow as tf\n",
    "from tensorflow import keras\n",
    "import numpy as np\n",
    "import pandas as pd\n",
    "import matplotlib.pyplot as plt\n",
    "import time\n",
    "from datetime import datetime"
   ]
  },
  {
   "cell_type": "markdown",
   "id": "03ed136a",
   "metadata": {},
   "source": [
    "## Step 2: Load data"
   ]
  },
  {
   "cell_type": "markdown",
   "id": "d91f92c5",
   "metadata": {},
   "source": [
    "We first define the path to our data"
   ]
  },
  {
   "cell_type": "code",
   "execution_count": 2,
   "id": "1d656ba8",
   "metadata": {},
   "outputs": [],
   "source": [
    "DATA_FOLDER = \"../Data\"\n",
    "\n",
    "ATT_FILE = f\"{DATA_FOLDER}/FootballPlayerPreparedCleanAttributes.csv\"\n",
    "IMPUTED_ATT_FILE = f\"{DATA_FOLDER}/ImputedFootballPlayerPreparedCleanAttributes.csv\"\n",
    "\n",
    "ONE_HOT_LABEL_FILE = f\"{DATA_FOLDER}/FootballPlayerOneHotEncodedClasses.csv\"\n",
    "IMPUTED_ONE_HOT_LABEL_FILE = f\"{DATA_FOLDER}/ImputedFootballPlayerPreparedCleanAttributes.csv\""
   ]
  },
  {
   "cell_type": "markdown",
   "id": "58873c5a",
   "metadata": {},
   "source": [
    "Specify training options:\n",
    "- **IMPUTED_DATA**: We will use file with data imputed\n",
    "- **TRAIN_RATE**: The amount of instances to use during training, it will also determine the dev and test instances number indirectly"
   ]
  },
  {
   "cell_type": "code",
   "execution_count": 3,
   "id": "418777a8",
   "metadata": {},
   "outputs": [],
   "source": [
    "IMPUTED_DATA = False    # Use imputed dataset\n",
    "TRAIN_RATE = 0.8        # The division of the data for training, validation and test"
   ]
  },
  {
   "cell_type": "markdown",
   "id": "57f74682",
   "metadata": {},
   "source": [
    "Because our data has more than 10000, we will be using 80-10-10 split in our dataset:\n",
    "- **80%** for training\n",
    "- **10%** for validation/dev test\n",
    "- **10%** for final test"
   ]
  },
  {
   "cell_type": "code",
   "execution_count": 4,
   "id": "6c959efc",
   "metadata": {},
   "outputs": [
    {
     "name": "stdout",
     "output_type": "stream",
     "text": [
      "instances_train: (12897, 17)\n",
      "labels_train: (12897, 4)\n",
      "instances_dev: (1612, 17)\n",
      "labels_dev: (1612, 4)\n"
     ]
    }
   ],
   "source": [
    "if IMPUTED_DATA:\n",
    "    attributes = pd.read_csv(ATT_IMPUTED_FILE)\n",
    "    labels = pd.read_csv(ONE_HOT_LABEL_IMPUTED_FILE)\n",
    "else:\n",
    "    attributes = pd.read_csv(ATT_FILE)\n",
    "    labels = pd.read_csv(ONE_HOT_LABEL_FILE)\n",
    "\n",
    "n_total_instances = attributes.shape[0]\n",
    "n_train_instances = int(n_total_instances * TRAIN_RATE)\n",
    "n_dev_instances = int((n_total_instances - n_train_instances)/2)\n",
    "\n",
    "instances_train = attributes.values[:n_train_instances]\n",
    "labels_train = labels.values[:n_train_instances]\n",
    "\n",
    "instances_dev = attributes.values[n_train_instances: n_train_instances + n_dev_instances]\n",
    "labels_dev = labels.values[n_train_instances: n_train_instances + n_dev_instances]\n",
    "\n",
    "print(\"instances_train:\", instances_train.shape)\n",
    "print(\"labels_train:\", labels_train.shape)\n",
    "print(\"instances_dev:\", instances_dev.shape)\n",
    "print(\"labels_dev:\",labels_dev.shape)"
   ]
  },
  {
   "cell_type": "markdown",
   "id": "c298d63e",
   "metadata": {},
   "source": [
    "## Step 3: Initialize variables\n",
    "- **INPUT_SIZE**: The size of the training instances\n",
    "- **OUTPUT_SIZE**: The number of possible classes\n",
    "- **NUM_TRAINING_EXAMPLES**: The number of possible classes\n",
    "- **NUM_DEV_EXAMPLES**: The number of validation/dev test instances"
   ]
  },
  {
   "cell_type": "code",
   "execution_count": 5,
   "id": "a952462d",
   "metadata": {},
   "outputs": [],
   "source": [
    "INPUT_SIZE = instances_train.shape[1]\n",
    "OUTPUT_SIZE = labels_train.shape[1]\n",
    "NUM_TRAINING_EXAMPLES = int(round(instances_train.shape[0]/1))\n",
    "NUM_DEV_EXAMPLES = int(round(instances_dev.shape[0]/1))"
   ]
  },
  {
   "cell_type": "markdown",
   "id": "9cd46ab5",
   "metadata": {},
   "source": [
    "## Step 4: Set hyperparameters"
   ]
  },
  {
   "cell_type": "markdown",
   "id": "76891052",
   "metadata": {},
   "source": [
    "- **LEARNING_RATE** $\\alpha$: The step size in the learning process\n",
    "- **BATCH_SIZE**: The size of each batch\n",
    "- **N_HIDDEN**: Number of neurons in the hidden.\n",
    "\n",
    "The learning process stops when it reaches 20,000 learning iterations. An iteration comprises presenting the network *batch_size* learning examples and then adjusting the weights (parameters)."
   ]
  },
  {
   "cell_type": "code",
   "execution_count": 6,
   "id": "3c42735e",
   "metadata": {},
   "outputs": [],
   "source": [
    "N_EPOCHS = 100 # 32,000 it aprox.\n",
    "LEARNING_RATE = 0.1\n",
    "BATCH_SIZE = 512\n",
    "ACTIVATION = \"relu\"\n",
    "N_HIDDEN = [512]\n",
    "LOSS = tf.keras.losses.categorical_crossentropy\n",
    "OPTIMIZER = tf.keras.optimizers.SGD(learning_rate=LEARNING_RATE)\n",
    "METRICS = [\"categorical_accuracy\"]"
   ]
  },
  {
   "cell_type": "markdown",
   "id": "2c5cd1f4",
   "metadata": {},
   "source": [
    "## Step 5: Build the model"
   ]
  },
  {
   "cell_type": "code",
   "execution_count": 7,
   "id": "4eaf6e1d",
   "metadata": {},
   "outputs": [],
   "source": [
    "def test_model():\n",
    "    model = keras.Sequential(name=\"Model\")\n",
    "    model.add(keras.layers.InputLayer(input_shape=(INPUT_SIZE,), batch_size=None))\n",
    "    for neurons in N_HIDDEN:\n",
    "        model.add(keras.layers.Dense(neurons, activation=ACTIVATION))\n",
    "    model.add(keras.layers.Dense(OUTPUT_SIZE, activation=\"softmax\"))\n",
    "    \n",
    "    model_name = \"D512\"\n",
    "    return model, model_name\n",
    "\n",
    "def compile_model(model):\n",
    "    my_model.compile(loss=LOSS,\n",
    "                     optimizer=OPTIMIZER,\n",
    "                     metrics=METRICS)"
   ]
  },
  {
   "cell_type": "code",
   "execution_count": 8,
   "id": "59de9ff9",
   "metadata": {},
   "outputs": [],
   "source": [
    "my_model, model_name = test_model()"
   ]
  },
  {
   "cell_type": "code",
   "execution_count": 9,
   "id": "d95ede85",
   "metadata": {},
   "outputs": [],
   "source": [
    "compile_model(my_model)"
   ]
  },
  {
   "cell_type": "markdown",
   "id": "5e60210d",
   "metadata": {},
   "source": [
    "## Step 6: Train the model"
   ]
  },
  {
   "cell_type": "code",
   "execution_count": 10,
   "id": "97f1e157",
   "metadata": {},
   "outputs": [
    {
     "name": "stdout",
     "output_type": "stream",
     "text": [
      "Epoch 1/100\n",
      "26/26 [==============================] - 1s 10ms/step - loss: 1.2709 - categorical_accuracy: 0.4580 - val_loss: 1.1569 - val_categorical_accuracy: 0.4907\n",
      "Epoch 2/100\n",
      "26/26 [==============================] - 0s 5ms/step - loss: 1.0979 - categorical_accuracy: 0.5139 - val_loss: 1.0424 - val_categorical_accuracy: 0.5211\n",
      "Epoch 3/100\n",
      "26/26 [==============================] - 0s 5ms/step - loss: 1.0049 - categorical_accuracy: 0.5477 - val_loss: 0.9708 - val_categorical_accuracy: 0.5639\n",
      "Epoch 4/100\n",
      "26/26 [==============================] - 0s 5ms/step - loss: 0.9408 - categorical_accuracy: 0.5829 - val_loss: 0.9183 - val_categorical_accuracy: 0.5924\n",
      "Epoch 5/100\n",
      "26/26 [==============================] - 0s 5ms/step - loss: 0.8922 - categorical_accuracy: 0.6102 - val_loss: 0.8774 - val_categorical_accuracy: 0.6067\n",
      "Epoch 6/100\n",
      "26/26 [==============================] - 0s 5ms/step - loss: 0.8533 - categorical_accuracy: 0.6279 - val_loss: 0.8440 - val_categorical_accuracy: 0.6210\n",
      "Epoch 7/100\n",
      "26/26 [==============================] - 0s 5ms/step - loss: 0.8214 - categorical_accuracy: 0.6448 - val_loss: 0.8165 - val_categorical_accuracy: 0.6297\n",
      "Epoch 8/100\n",
      "26/26 [==============================] - 0s 4ms/step - loss: 0.7945 - categorical_accuracy: 0.6576 - val_loss: 0.7930 - val_categorical_accuracy: 0.6396\n",
      "Epoch 9/100\n",
      "26/26 [==============================] - 0s 4ms/step - loss: 0.7713 - categorical_accuracy: 0.6668 - val_loss: 0.7727 - val_categorical_accuracy: 0.6433\n",
      "Epoch 10/100\n",
      "26/26 [==============================] - 0s 4ms/step - loss: 0.7513 - categorical_accuracy: 0.6755 - val_loss: 0.7544 - val_categorical_accuracy: 0.6501\n",
      "Epoch 11/100\n",
      "26/26 [==============================] - 0s 4ms/step - loss: 0.7334 - categorical_accuracy: 0.6828 - val_loss: 0.7381 - val_categorical_accuracy: 0.6569\n",
      "Epoch 12/100\n",
      "26/26 [==============================] - 0s 4ms/step - loss: 0.7176 - categorical_accuracy: 0.6918 - val_loss: 0.7236 - val_categorical_accuracy: 0.6663\n",
      "Epoch 13/100\n",
      "26/26 [==============================] - 0s 4ms/step - loss: 0.7034 - categorical_accuracy: 0.6992 - val_loss: 0.7109 - val_categorical_accuracy: 0.6687\n",
      "Epoch 14/100\n",
      "26/26 [==============================] - 0s 5ms/step - loss: 0.6906 - categorical_accuracy: 0.7030 - val_loss: 0.6980 - val_categorical_accuracy: 0.6818\n",
      "Epoch 15/100\n",
      "26/26 [==============================] - 0s 4ms/step - loss: 0.6788 - categorical_accuracy: 0.7095 - val_loss: 0.6875 - val_categorical_accuracy: 0.6780\n",
      "Epoch 16/100\n",
      "26/26 [==============================] - 0s 4ms/step - loss: 0.6681 - categorical_accuracy: 0.7126 - val_loss: 0.6769 - val_categorical_accuracy: 0.6818\n",
      "Epoch 17/100\n",
      "26/26 [==============================] - 0s 5ms/step - loss: 0.6580 - categorical_accuracy: 0.7161 - val_loss: 0.6674 - val_categorical_accuracy: 0.6911\n",
      "Epoch 18/100\n",
      "26/26 [==============================] - 0s 4ms/step - loss: 0.6490 - categorical_accuracy: 0.7217 - val_loss: 0.6583 - val_categorical_accuracy: 0.6967\n",
      "Epoch 19/100\n",
      "26/26 [==============================] - 0s 4ms/step - loss: 0.6404 - categorical_accuracy: 0.7258 - val_loss: 0.6501 - val_categorical_accuracy: 0.6960\n",
      "Epoch 20/100\n",
      "26/26 [==============================] - 0s 5ms/step - loss: 0.6325 - categorical_accuracy: 0.7316 - val_loss: 0.6419 - val_categorical_accuracy: 0.7016\n",
      "Epoch 21/100\n",
      "26/26 [==============================] - 0s 5ms/step - loss: 0.6252 - categorical_accuracy: 0.7328 - val_loss: 0.6349 - val_categorical_accuracy: 0.7097\n",
      "Epoch 22/100\n",
      "26/26 [==============================] - 0s 5ms/step - loss: 0.6183 - categorical_accuracy: 0.7375 - val_loss: 0.6281 - val_categorical_accuracy: 0.7103\n",
      "Epoch 23/100\n",
      "26/26 [==============================] - 0s 5ms/step - loss: 0.6119 - categorical_accuracy: 0.7400 - val_loss: 0.6225 - val_categorical_accuracy: 0.7084\n",
      "Epoch 24/100\n",
      "26/26 [==============================] - 0s 5ms/step - loss: 0.6060 - categorical_accuracy: 0.7406 - val_loss: 0.6161 - val_categorical_accuracy: 0.7190\n",
      "Epoch 25/100\n",
      "26/26 [==============================] - 0s 4ms/step - loss: 0.6005 - categorical_accuracy: 0.7420 - val_loss: 0.6112 - val_categorical_accuracy: 0.7208\n",
      "Epoch 26/100\n",
      "26/26 [==============================] - 0s 5ms/step - loss: 0.5953 - categorical_accuracy: 0.7440 - val_loss: 0.6069 - val_categorical_accuracy: 0.7202\n",
      "Epoch 27/100\n",
      "26/26 [==============================] - 0s 5ms/step - loss: 0.5905 - categorical_accuracy: 0.7454 - val_loss: 0.6011 - val_categorical_accuracy: 0.7308\n",
      "Epoch 28/100\n",
      "26/26 [==============================] - 0s 4ms/step - loss: 0.5856 - categorical_accuracy: 0.7467 - val_loss: 0.5963 - val_categorical_accuracy: 0.7301\n",
      "Epoch 29/100\n",
      "26/26 [==============================] - 0s 5ms/step - loss: 0.5812 - categorical_accuracy: 0.7481 - val_loss: 0.5922 - val_categorical_accuracy: 0.7345\n",
      "Epoch 30/100\n",
      "26/26 [==============================] - 0s 5ms/step - loss: 0.5772 - categorical_accuracy: 0.7513 - val_loss: 0.5884 - val_categorical_accuracy: 0.7357\n",
      "Epoch 31/100\n",
      "26/26 [==============================] - 0s 5ms/step - loss: 0.5733 - categorical_accuracy: 0.7530 - val_loss: 0.5848 - val_categorical_accuracy: 0.7382\n",
      "Epoch 32/100\n",
      "26/26 [==============================] - 0s 5ms/step - loss: 0.5695 - categorical_accuracy: 0.7529 - val_loss: 0.5809 - val_categorical_accuracy: 0.7395\n",
      "Epoch 33/100\n",
      "26/26 [==============================] - 0s 5ms/step - loss: 0.5660 - categorical_accuracy: 0.7538 - val_loss: 0.5774 - val_categorical_accuracy: 0.7401\n",
      "Epoch 34/100\n",
      "26/26 [==============================] - 0s 4ms/step - loss: 0.5627 - categorical_accuracy: 0.7551 - val_loss: 0.5743 - val_categorical_accuracy: 0.7388\n",
      "Epoch 35/100\n",
      "26/26 [==============================] - 0s 4ms/step - loss: 0.5595 - categorical_accuracy: 0.7565 - val_loss: 0.5715 - val_categorical_accuracy: 0.7370\n",
      "Epoch 36/100\n",
      "26/26 [==============================] - 0s 4ms/step - loss: 0.5565 - categorical_accuracy: 0.7581 - val_loss: 0.5681 - val_categorical_accuracy: 0.7419\n",
      "Epoch 37/100\n",
      "26/26 [==============================] - 0s 4ms/step - loss: 0.5533 - categorical_accuracy: 0.7579 - val_loss: 0.5657 - val_categorical_accuracy: 0.7450\n",
      "Epoch 38/100\n",
      "26/26 [==============================] - 0s 4ms/step - loss: 0.5504 - categorical_accuracy: 0.7592 - val_loss: 0.5630 - val_categorical_accuracy: 0.7432\n",
      "Epoch 39/100\n",
      "26/26 [==============================] - 0s 4ms/step - loss: 0.5481 - categorical_accuracy: 0.7596 - val_loss: 0.5603 - val_categorical_accuracy: 0.7432\n",
      "Epoch 40/100\n",
      "26/26 [==============================] - 0s 5ms/step - loss: 0.5452 - categorical_accuracy: 0.7604 - val_loss: 0.5574 - val_categorical_accuracy: 0.7432\n",
      "Epoch 41/100\n",
      "26/26 [==============================] - 0s 4ms/step - loss: 0.5429 - categorical_accuracy: 0.7606 - val_loss: 0.5565 - val_categorical_accuracy: 0.7475\n",
      "Epoch 42/100\n",
      "26/26 [==============================] - 0s 4ms/step - loss: 0.5407 - categorical_accuracy: 0.7618 - val_loss: 0.5537 - val_categorical_accuracy: 0.7488\n",
      "Epoch 43/100\n",
      "26/26 [==============================] - 0s 4ms/step - loss: 0.5383 - categorical_accuracy: 0.7625 - val_loss: 0.5514 - val_categorical_accuracy: 0.7512\n",
      "Epoch 44/100\n",
      "26/26 [==============================] - 0s 4ms/step - loss: 0.5358 - categorical_accuracy: 0.7638 - val_loss: 0.5492 - val_categorical_accuracy: 0.7519\n",
      "Epoch 45/100\n",
      "26/26 [==============================] - 0s 4ms/step - loss: 0.5337 - categorical_accuracy: 0.7651 - val_loss: 0.5475 - val_categorical_accuracy: 0.7494\n",
      "Epoch 46/100\n",
      "26/26 [==============================] - 0s 4ms/step - loss: 0.5319 - categorical_accuracy: 0.7651 - val_loss: 0.5449 - val_categorical_accuracy: 0.7463\n",
      "Epoch 47/100\n",
      "26/26 [==============================] - 0s 4ms/step - loss: 0.5297 - categorical_accuracy: 0.7654 - val_loss: 0.5432 - val_categorical_accuracy: 0.7506\n",
      "Epoch 48/100\n",
      "26/26 [==============================] - 0s 4ms/step - loss: 0.5277 - categorical_accuracy: 0.7669 - val_loss: 0.5422 - val_categorical_accuracy: 0.7562\n",
      "Epoch 49/100\n",
      "26/26 [==============================] - 0s 4ms/step - loss: 0.5258 - categorical_accuracy: 0.7686 - val_loss: 0.5392 - val_categorical_accuracy: 0.7475\n",
      "Epoch 50/100\n"
     ]
    },
    {
     "name": "stdout",
     "output_type": "stream",
     "text": [
      "26/26 [==============================] - 0s 4ms/step - loss: 0.5240 - categorical_accuracy: 0.7693 - val_loss: 0.5377 - val_categorical_accuracy: 0.7444\n",
      "Epoch 51/100\n",
      "26/26 [==============================] - 0s 4ms/step - loss: 0.5224 - categorical_accuracy: 0.7700 - val_loss: 0.5368 - val_categorical_accuracy: 0.7556\n",
      "Epoch 52/100\n",
      "26/26 [==============================] - 0s 4ms/step - loss: 0.5205 - categorical_accuracy: 0.7710 - val_loss: 0.5346 - val_categorical_accuracy: 0.7512\n",
      "Epoch 53/100\n",
      "26/26 [==============================] - 0s 5ms/step - loss: 0.5191 - categorical_accuracy: 0.7707 - val_loss: 0.5328 - val_categorical_accuracy: 0.7537\n",
      "Epoch 54/100\n",
      "26/26 [==============================] - 0s 4ms/step - loss: 0.5172 - categorical_accuracy: 0.7718 - val_loss: 0.5307 - val_categorical_accuracy: 0.7525\n",
      "Epoch 55/100\n",
      "26/26 [==============================] - 0s 4ms/step - loss: 0.5158 - categorical_accuracy: 0.7728 - val_loss: 0.5290 - val_categorical_accuracy: 0.7581\n",
      "Epoch 56/100\n",
      "26/26 [==============================] - 0s 4ms/step - loss: 0.5141 - categorical_accuracy: 0.7739 - val_loss: 0.5290 - val_categorical_accuracy: 0.7599\n",
      "Epoch 57/100\n",
      "26/26 [==============================] - 0s 4ms/step - loss: 0.5126 - categorical_accuracy: 0.7739 - val_loss: 0.5266 - val_categorical_accuracy: 0.7581\n",
      "Epoch 58/100\n",
      "26/26 [==============================] - 0s 4ms/step - loss: 0.5112 - categorical_accuracy: 0.7757 - val_loss: 0.5256 - val_categorical_accuracy: 0.7612\n",
      "Epoch 59/100\n",
      "26/26 [==============================] - 0s 4ms/step - loss: 0.5100 - categorical_accuracy: 0.7764 - val_loss: 0.5240 - val_categorical_accuracy: 0.7612\n",
      "Epoch 60/100\n",
      "26/26 [==============================] - 0s 4ms/step - loss: 0.5083 - categorical_accuracy: 0.7772 - val_loss: 0.5243 - val_categorical_accuracy: 0.7574\n",
      "Epoch 61/100\n",
      "26/26 [==============================] - 0s 4ms/step - loss: 0.5074 - categorical_accuracy: 0.7773 - val_loss: 0.5220 - val_categorical_accuracy: 0.7630\n",
      "Epoch 62/100\n",
      "26/26 [==============================] - 0s 4ms/step - loss: 0.5057 - categorical_accuracy: 0.7777 - val_loss: 0.5202 - val_categorical_accuracy: 0.7636\n",
      "Epoch 63/100\n",
      "26/26 [==============================] - 0s 4ms/step - loss: 0.5045 - categorical_accuracy: 0.7779 - val_loss: 0.5200 - val_categorical_accuracy: 0.7655\n",
      "Epoch 64/100\n",
      "26/26 [==============================] - 0s 4ms/step - loss: 0.5034 - categorical_accuracy: 0.7790 - val_loss: 0.5178 - val_categorical_accuracy: 0.7624\n",
      "Epoch 65/100\n",
      "26/26 [==============================] - 0s 4ms/step - loss: 0.5022 - categorical_accuracy: 0.7786 - val_loss: 0.5162 - val_categorical_accuracy: 0.7593\n",
      "Epoch 66/100\n",
      "26/26 [==============================] - 0s 4ms/step - loss: 0.5008 - categorical_accuracy: 0.7800 - val_loss: 0.5155 - val_categorical_accuracy: 0.7649\n",
      "Epoch 67/100\n",
      "26/26 [==============================] - 0s 4ms/step - loss: 0.4997 - categorical_accuracy: 0.7799 - val_loss: 0.5147 - val_categorical_accuracy: 0.7655\n",
      "Epoch 68/100\n",
      "26/26 [==============================] - 0s 4ms/step - loss: 0.4986 - categorical_accuracy: 0.7806 - val_loss: 0.5135 - val_categorical_accuracy: 0.7612\n",
      "Epoch 69/100\n",
      "26/26 [==============================] - 0s 4ms/step - loss: 0.4975 - categorical_accuracy: 0.7809 - val_loss: 0.5133 - val_categorical_accuracy: 0.7649\n",
      "Epoch 70/100\n",
      "26/26 [==============================] - 0s 4ms/step - loss: 0.4966 - categorical_accuracy: 0.7817 - val_loss: 0.5112 - val_categorical_accuracy: 0.7692\n",
      "Epoch 71/100\n",
      "26/26 [==============================] - 0s 4ms/step - loss: 0.4953 - categorical_accuracy: 0.7822 - val_loss: 0.5105 - val_categorical_accuracy: 0.7711\n",
      "Epoch 72/100\n",
      "26/26 [==============================] - 0s 4ms/step - loss: 0.4941 - categorical_accuracy: 0.7820 - val_loss: 0.5092 - val_categorical_accuracy: 0.7649\n",
      "Epoch 73/100\n",
      "26/26 [==============================] - 0s 4ms/step - loss: 0.4935 - categorical_accuracy: 0.7843 - val_loss: 0.5093 - val_categorical_accuracy: 0.7667\n",
      "Epoch 74/100\n",
      "26/26 [==============================] - 0s 5ms/step - loss: 0.4922 - categorical_accuracy: 0.7844 - val_loss: 0.5082 - val_categorical_accuracy: 0.7636\n",
      "Epoch 75/100\n",
      "26/26 [==============================] - 0s 5ms/step - loss: 0.4912 - categorical_accuracy: 0.7850 - val_loss: 0.5071 - val_categorical_accuracy: 0.7686\n",
      "Epoch 76/100\n",
      "26/26 [==============================] - 0s 5ms/step - loss: 0.4904 - categorical_accuracy: 0.7835 - val_loss: 0.5063 - val_categorical_accuracy: 0.7649\n",
      "Epoch 77/100\n",
      "26/26 [==============================] - 0s 5ms/step - loss: 0.4894 - categorical_accuracy: 0.7848 - val_loss: 0.5052 - val_categorical_accuracy: 0.7699\n",
      "Epoch 78/100\n",
      "26/26 [==============================] - 0s 5ms/step - loss: 0.4884 - categorical_accuracy: 0.7866 - val_loss: 0.5051 - val_categorical_accuracy: 0.7661\n",
      "Epoch 79/100\n",
      "26/26 [==============================] - 0s 5ms/step - loss: 0.4875 - categorical_accuracy: 0.7855 - val_loss: 0.5039 - val_categorical_accuracy: 0.7680\n",
      "Epoch 80/100\n",
      "26/26 [==============================] - 0s 6ms/step - loss: 0.4866 - categorical_accuracy: 0.7873 - val_loss: 0.5027 - val_categorical_accuracy: 0.7711\n",
      "Epoch 81/100\n",
      "26/26 [==============================] - 0s 5ms/step - loss: 0.4860 - categorical_accuracy: 0.7863 - val_loss: 0.5015 - val_categorical_accuracy: 0.7705\n",
      "Epoch 82/100\n",
      "26/26 [==============================] - 0s 6ms/step - loss: 0.4850 - categorical_accuracy: 0.7886 - val_loss: 0.5015 - val_categorical_accuracy: 0.7730\n",
      "Epoch 83/100\n",
      "26/26 [==============================] - 0s 6ms/step - loss: 0.4840 - categorical_accuracy: 0.7871 - val_loss: 0.4995 - val_categorical_accuracy: 0.7717\n",
      "Epoch 84/100\n",
      "26/26 [==============================] - 0s 6ms/step - loss: 0.4830 - categorical_accuracy: 0.7885 - val_loss: 0.4988 - val_categorical_accuracy: 0.7736\n",
      "Epoch 85/100\n",
      "26/26 [==============================] - 0s 6ms/step - loss: 0.4819 - categorical_accuracy: 0.7888 - val_loss: 0.4995 - val_categorical_accuracy: 0.7748\n",
      "Epoch 86/100\n",
      "26/26 [==============================] - 0s 6ms/step - loss: 0.4817 - categorical_accuracy: 0.7894 - val_loss: 0.4972 - val_categorical_accuracy: 0.7767\n",
      "Epoch 87/100\n",
      "26/26 [==============================] - 0s 6ms/step - loss: 0.4806 - categorical_accuracy: 0.7898 - val_loss: 0.4962 - val_categorical_accuracy: 0.7736\n",
      "Epoch 88/100\n",
      "26/26 [==============================] - 0s 7ms/step - loss: 0.4798 - categorical_accuracy: 0.7906 - val_loss: 0.4961 - val_categorical_accuracy: 0.7748\n",
      "Epoch 89/100\n",
      "26/26 [==============================] - 0s 7ms/step - loss: 0.4790 - categorical_accuracy: 0.7896 - val_loss: 0.4949 - val_categorical_accuracy: 0.7761\n",
      "Epoch 90/100\n",
      "26/26 [==============================] - 0s 7ms/step - loss: 0.4782 - categorical_accuracy: 0.7907 - val_loss: 0.4941 - val_categorical_accuracy: 0.7754\n",
      "Epoch 91/100\n",
      "26/26 [==============================] - 0s 7ms/step - loss: 0.4772 - categorical_accuracy: 0.7917 - val_loss: 0.4950 - val_categorical_accuracy: 0.7773\n",
      "Epoch 92/100\n",
      "26/26 [==============================] - 0s 7ms/step - loss: 0.4768 - categorical_accuracy: 0.7913 - val_loss: 0.4935 - val_categorical_accuracy: 0.7767\n",
      "Epoch 93/100\n",
      "26/26 [==============================] - 0s 7ms/step - loss: 0.4759 - categorical_accuracy: 0.7928 - val_loss: 0.4921 - val_categorical_accuracy: 0.7761\n",
      "Epoch 94/100\n",
      "26/26 [==============================] - 0s 7ms/step - loss: 0.4750 - categorical_accuracy: 0.7918 - val_loss: 0.4921 - val_categorical_accuracy: 0.7773\n",
      "Epoch 95/100\n",
      "26/26 [==============================] - 0s 7ms/step - loss: 0.4745 - categorical_accuracy: 0.7940 - val_loss: 0.4905 - val_categorical_accuracy: 0.7773\n",
      "Epoch 96/100\n",
      "26/26 [==============================] - 0s 7ms/step - loss: 0.4737 - categorical_accuracy: 0.7936 - val_loss: 0.4909 - val_categorical_accuracy: 0.7761\n",
      "Epoch 97/100\n",
      "26/26 [==============================] - 0s 7ms/step - loss: 0.4731 - categorical_accuracy: 0.7927 - val_loss: 0.4897 - val_categorical_accuracy: 0.7761\n",
      "Epoch 98/100\n",
      "26/26 [==============================] - 0s 7ms/step - loss: 0.4723 - categorical_accuracy: 0.7937 - val_loss: 0.4885 - val_categorical_accuracy: 0.7754\n",
      "Epoch 99/100\n"
     ]
    },
    {
     "name": "stdout",
     "output_type": "stream",
     "text": [
      "26/26 [==============================] - 0s 7ms/step - loss: 0.4714 - categorical_accuracy: 0.7943 - val_loss: 0.4881 - val_categorical_accuracy: 0.7810\n",
      "Epoch 100/100\n",
      "26/26 [==============================] - 0s 7ms/step - loss: 0.4708 - categorical_accuracy: 0.7944 - val_loss: 0.4870 - val_categorical_accuracy: 0.7792\n"
     ]
    }
   ],
   "source": [
    "start_time = time.perf_counter()\n",
    "history = my_model.fit(instances_train,\n",
    "                       labels_train,\n",
    "                       batch_size=BATCH_SIZE,\n",
    "                       epochs=N_EPOCHS,\n",
    "                       verbose=1,\n",
    "                       validation_data=(instances_dev, labels_dev))\n",
    "end_time = time.perf_counter()"
   ]
  },
  {
   "cell_type": "markdown",
   "id": "b058ed7c",
   "metadata": {},
   "source": [
    "## Step 7: Analyze results"
   ]
  },
  {
   "cell_type": "code",
   "execution_count": 11,
   "id": "510d1e45",
   "metadata": {
    "scrolled": true
   },
   "outputs": [
    {
     "data": {
      "image/png": "[encoded data removed]",
      "text/plain": [
       "<Figure size 800x500 with 1 Axes>"
      ]
     },
     "metadata": {},
     "output_type": "display_data"
    }
   ],
   "source": [
    "results=pd.DataFrame(history.history)\n",
    "results.plot(figsize=(8, 5))\n",
    "plt.grid(True)\n",
    "plt.xlabel (\"Epochs\")\n",
    "plt.ylabel (\"Accuracy - Mean Log Loss\")\n",
    "plt.gca().set_ylim(0, 1) # set the vertical range to [0-1]\n",
    "plt.show()"
   ]
  },
  {
   "cell_type": "code",
   "execution_count": 12,
   "id": "057b07c0",
   "metadata": {},
   "outputs": [
    {
     "name": "stdout",
     "output_type": "stream",
     "text": [
      "Error (training): 20.56 %\n",
      "Error (test): 22.08 %\n",
      "Bias: 15.56\n",
      "Variance: 1.52\n",
      "Time:  14 seconds\n"
     ]
    }
   ],
   "source": [
    "training_accuracy = round(results.categorical_accuracy.values[-1:][0]*100, 2)\n",
    "val_accuracy = round(results.val_categorical_accuracy.values[-1:][0]*100, 2)\n",
    "training_error = round((1 - results.categorical_accuracy.values[-1:][0])*100, 2)\n",
    "test_error = round((1 - results.val_categorical_accuracy.values[-1:][0])*100, 2)\n",
    "human_error = 5\n",
    "bias = round(training_error - human_error, 2)\n",
    "variance = round(test_error - training_error, 2)\n",
    "training_time = round(end_time - start_time)\n",
    "print(\"Error (training):\", training_error, \"%\")\n",
    "print(\"Error (test):\", test_error, \"%\")\n",
    "print(\"Bias:\", bias)\n",
    "print(\"Variance:\", variance)\n",
    "print(\"Time: \", training_time, \"seconds\")"
   ]
  },
  {
   "cell_type": "markdown",
   "id": "f00119f7",
   "metadata": {},
   "source": [
    "## Step 8: Save results"
   ]
  },
  {
   "cell_type": "code",
   "execution_count": 13,
   "id": "2019f84b",
   "metadata": {},
   "outputs": [],
   "source": [
    "RESULTS_FOLDER = \"../Results\"\n",
    "RESULTS_FILE = f\"{RESULTS_FOLDER}/models_performance.csv\""
   ]
  },
  {
   "cell_type": "code",
   "execution_count": 14,
   "id": "76ce7edf",
   "metadata": {},
   "outputs": [],
   "source": [
    "results_df = pd.read_csv(RESULTS_FILE, index_col = 0)"
   ]
  },
  {
   "cell_type": "code",
   "execution_count": 15,
   "id": "6f1a0c76",
   "metadata": {},
   "outputs": [],
   "source": [
    "COLUMNS = [\n",
    "    'model_name',\n",
    "    'epochs',\n",
    "    'learning_rate',\n",
    "    'batch_size',\n",
    "    'activation',\n",
    "    'loss',\n",
    "    'optimizer',\n",
    "    'regularization',\n",
    "    'train_accuracy',\n",
    "    'validation_accuracy',\n",
    "    'bias',\n",
    "    'variance',\n",
    "    'training_time'\n",
    "]\n",
    "\n",
    "new_result = [[\n",
    "    model_name,\n",
    "    N_EPOCHS,\n",
    "    LEARNING_RATE,\n",
    "    BATCH_SIZE,\n",
    "    ACTIVATION,\n",
    "    \"categorical_crossentropy\",\n",
    "    \"SGD\",\n",
    "    \"\",\n",
    "    training_accuracy,\n",
    "    val_accuracy,\n",
    "    bias,\n",
    "    variance,\n",
    "    training_time]]\n",
    "\n",
    "new_result_df = pd.DataFrame(new_result, columns=COLUMNS)\n",
    "concatenation = pd.concat([results_df, new_result_df], ignore_index=True)\n",
    "concatenation.to_csv(RESULTS_FILE)\n"
   ]
  },
  {
   "cell_type": "code",
   "execution_count": 28,
   "id": "57b7027a",
   "metadata": {},
   "outputs": [
    {
     "name": "stdout",
     "output_type": "stream",
     "text": [
      "  model_name  epochs  learning_rate  batch_size activation  \\\n",
      "0       D512     100            0.1         512       relu   \n",
      "1       D512     100            0.1         512       relu   \n",
      "2       D512     100            0.1         512       relu   \n",
      "3       D512     100            0.1         512       relu   \n",
      "4       D512     100            0.1         512       relu   \n",
      "\n",
      "                       loss optimizer regularization  train_accuracy  \\\n",
      "0  categorical_crossentropy       SGD            NaN           79.39   \n",
      "1  categorical_crossentropy       SGD            NaN           79.30   \n",
      "2  categorical_crossentropy       SGD            NaN           79.44   \n",
      "3  categorical_crossentropy       SGD            NaN           79.36   \n",
      "4  categorical_crossentropy       SGD                          79.44   \n",
      "\n",
      "   validation_accuracy   bias  variance  training_time  \n",
      "0                77.92  15.61      1.47             14  \n",
      "1                78.04  15.70      1.26             14  \n",
      "2                77.73  15.56      1.71             14  \n",
      "3                78.10  15.64      1.26             14  \n",
      "4                77.92  15.56      1.52             14  \n",
      "\n",
      "---Metrics---\n",
      "       train_accuracy  validation_accuracy       bias  variance  training_time\n",
      "count        5.000000             5.000000   5.000000  5.000000            5.0\n",
      "mean        79.386000            77.942000  15.614000  1.444000           14.0\n",
      "std          0.058992             0.141845   0.058992  0.190342            0.0\n",
      "min         79.300000            77.730000  15.560000  1.260000           14.0\n",
      "25%         79.360000            77.920000  15.560000  1.260000           14.0\n",
      "50%         79.390000            77.920000  15.610000  1.470000           14.0\n",
      "75%         79.440000            78.040000  15.640000  1.520000           14.0\n",
      "max         79.440000            78.100000  15.700000  1.710000           14.0\n"
     ]
    }
   ],
   "source": [
    "last_five = concatenation.tail(5)\n",
    "print(last_five)\n",
    "print(\"\\n---Metrics---\")\n",
    "print(last_five[[\"train_accuracy\", \"validation_accuracy\", \"bias\", \"variance\", \"training_time\"]].describe())"
   ]
  },
  {
   "cell_type": "code",
   "execution_count": null,
   "id": "54495d51",
   "metadata": {},
   "outputs": [],
   "source": []
  },
  {
   "cell_type": "code",
   "execution_count": null,
   "id": "514fe525",
   "metadata": {},
   "outputs": [],
   "source": []
  },
  {
   "cell_type": "code",
   "execution_count": null,
   "id": "111d944b",
   "metadata": {},
   "outputs": [],
   "source": []
  }
 ],
 "metadata": {
  "kernelspec": {
   "display_name": "Python 3 (ipykernel)",
   "language": "python",
   "name": "python3"
  },
  "language_info": {
   "codemirror_mode": {
    "name": "ipython",
    "version": 3
   },
   "file_extension": ".py",
   "mimetype": "text/x-python",
   "name": "python",
   "nbconvert_exporter": "python",
   "pygments_lexer": "ipython3",
   "version": "3.10.4"
  }
 },
 "nbformat": 4,
 "nbformat_minor": 5
}
