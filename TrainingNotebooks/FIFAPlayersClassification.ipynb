{
 "cells": [
  {
   "cell_type": "markdown",
   "id": "e23be947",
   "metadata": {},
   "source": [
    "# FIFA Players Classification"
   ]
  },
  {
   "cell_type": "markdown",
   "id": "bf9c07ad",
   "metadata": {},
   "source": [
    "This notebook contains the code to train models for the FIFA Classification problem based on their attributes"
   ]
  },
  {
   "cell_type": "markdown",
   "id": "fc42f189",
   "metadata": {},
   "source": [
    "## Step 1: Import libraries"
   ]
  },
  {
   "cell_type": "markdown",
   "id": "d349ae58",
   "metadata": {},
   "source": [
    "Libraries we will be using:\n",
    "- **tensorflow** and **keras**: APIs for neural network model construction and training\n",
    "- **numpy**: Numerical python library.\n",
    "- **pandas**: Will be used to work with dataframes from .csv files.\n",
    "- **sklearn**: Will be used to modify the labels of the data and do some statistical modifications.\n",
    "- **matplotlib**: Will be used to plot graphics.\n",
    "- **time**: To measure training time.\n",
    "- **datetime**: To get the datetime a new model is created and use that to create its name"
   ]
  },
  {
   "cell_type": "code",
   "execution_count": 3,
   "id": "72b3680b",
   "metadata": {},
   "outputs": [],
   "source": [
    "import tensorflow as tf\n",
    "from tensorflow import keras\n",
    "import numpy as np\n",
    "import pandas as pd\n",
    "import matplotlib.pyplot as plt\n",
    "import time\n",
    "from datetime import datetime"
   ]
  },
  {
   "cell_type": "markdown",
   "id": "6c60de91",
   "metadata": {},
   "source": [
    "## Step 2: Load data"
   ]
  },
  {
   "cell_type": "markdown",
   "id": "10eefc15",
   "metadata": {},
   "source": [
    "We first define the path to our data"
   ]
  },
  {
   "cell_type": "code",
   "execution_count": null,
   "id": "17d83fbb",
   "metadata": {},
   "outputs": [],
   "source": [
    "DATA_FOLDER = \"../Data\"\n",
    "ATT_FILE = f\"{DATA_FOLDER}/FootballPlayerPreparedCleanAttributes.csv\n",
    "ONE_HOT_LABEL_FILE = f\"{DATA_FOLDER}/FootballPlayer"
   ]
  }
 ],
 "metadata": {
  "kernelspec": {
   "display_name": "Python 3 (ipykernel)",
   "language": "python",
   "name": "python3"
  },
  "language_info": {
   "codemirror_mode": {
    "name": "ipython",
    "version": 3
   },
   "file_extension": ".py",
   "mimetype": "text/x-python",
   "name": "python",
   "nbconvert_exporter": "python",
   "pygments_lexer": "ipython3",
   "version": "3.10.4"
  }
 },
 "nbformat": 4,
 "nbformat_minor": 5
}
