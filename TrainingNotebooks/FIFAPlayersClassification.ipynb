{
 "cells": [
  {
   "cell_type": "markdown",
   "id": "77f8a061",
   "metadata": {},
   "source": [
    "# FIFA Players Classification"
   ]
  },
  {
   "cell_type": "markdown",
   "id": "af9c7734",
   "metadata": {},
   "source": [
    "This notebook contains the code to train models for the FIFA Classification problem based on their attributes"
   ]
  },
  {
   "cell_type": "markdown",
   "id": "fd42909f",
   "metadata": {},
   "source": [
    "## Step 1: Import libraries"
   ]
  },
  {
   "cell_type": "markdown",
   "id": "d839c565",
   "metadata": {},
   "source": [
    "Libraries we will be using:\n",
    "- **tensorflow** and **keras**: APIs for neural network model construction and training\n",
    "- **numpy**: Numerical python library.\n",
    "- **pandas**: Will be used to work with dataframes from .csv files.\n",
    "- **sklearn**: Will be used to modify the labels of the data and do some statistical modifications.\n",
    "- **matplotlib**: Will be used to plot graphics.\n",
    "- **time**: To measure training time.\n",
    "- **datetime**: To get the datetime a new model is created and use that to create its name"
   ]
  },
  {
   "cell_type": "code",
   "execution_count": 1,
   "id": "454fe405",
   "metadata": {},
   "outputs": [],
   "source": [
    "import tensorflow as tf\n",
    "from tensorflow import keras\n",
    "import numpy as np\n",
    "import pandas as pd\n",
    "import matplotlib.pyplot as plt\n",
    "import time\n",
    "from datetime import datetime"
   ]
  },
  {
   "cell_type": "markdown",
   "id": "03e23a23",
   "metadata": {},
   "source": [
    "## Step 2: Load data"
   ]
  },
  {
   "cell_type": "markdown",
   "id": "ed970f9b",
   "metadata": {},
   "source": [
    "We first define the path to our data"
   ]
  },
  {
   "cell_type": "code",
   "execution_count": 2,
   "id": "32609294",
   "metadata": {},
   "outputs": [],
   "source": [
    "DATA_FOLDER = \"../Data\"\n",
    "\n",
    "ATT_FILE = f\"{DATA_FOLDER}/FootballPlayerPreparedCleanAttributes.csv\"\n",
    "IMPUTED_ATT_FILE = f\"{DATA_FOLDER}/ImputedFootballPlayerPreparedCleanAttributes.csv\"\n",
    "\n",
    "ONE_HOT_LABEL_FILE = f\"{DATA_FOLDER}/FootballPlayerOneHotEncodedClasses.csv\"\n",
    "IMPUTED_ONE_HOT_LABEL_FILE = f\"{DATA_FOLDER}/ImputedFootballPlayerPreparedCleanAttributes.csv\""
   ]
  },
  {
   "cell_type": "markdown",
   "id": "50ba0d14",
   "metadata": {},
   "source": [
    "Specify training options:\n",
    "- **IMPUTED_DATA**: We will use file with data imputed\n",
    "- **TRAIN_RATE**: The amount of instances to use during training, it will also determine the dev and test instances number indirectly"
   ]
  },
  {
   "cell_type": "code",
   "execution_count": 3,
   "id": "c224901f",
   "metadata": {},
   "outputs": [],
   "source": [
    "IMPUTED_DATA = False    # Use imputed dataset\n",
    "TRAIN_RATE = 0.8        # The division of the data for training, validation and test"
   ]
  },
  {
   "cell_type": "markdown",
   "id": "a2ecc958",
   "metadata": {},
   "source": [
    "Because our data has more than 10000, we will be using 80-10-10 split in our dataset:\n",
    "- **80%** for training\n",
    "- **10%** for validation/dev test\n",
    "- **10%** for final test"
   ]
  },
  {
   "cell_type": "code",
   "execution_count": 4,
   "id": "1953dfe7",
   "metadata": {},
   "outputs": [
    {
     "name": "stdout",
     "output_type": "stream",
     "text": [
      "instances_train: (12897, 17)\n",
      "labels_train: (12897, 4)\n",
      "instances_dev: (1612, 17)\n",
      "labels_dev: (1612, 4)\n"
     ]
    }
   ],
   "source": [
    "if IMPUTED_DATA:\n",
    "    attributes = pd.read_csv(ATT_IMPUTED_FILE)\n",
    "    labels = pd.read_csv(ONE_HOT_LABEL_IMPUTED_FILE)\n",
    "else:\n",
    "    attributes = pd.read_csv(ATT_FILE)\n",
    "    labels = pd.read_csv(ONE_HOT_LABEL_FILE)\n",
    "\n",
    "n_total_instances = attributes.shape[0]\n",
    "n_train_instances = int(n_total_instances * TRAIN_RATE)\n",
    "n_dev_instances = int((n_total_instances - n_train_instances)/2)\n",
    "\n",
    "instances_train = attributes.values[:n_train_instances]\n",
    "labels_train = labels.values[:n_train_instances]\n",
    "\n",
    "instances_dev = attributes.values[n_train_instances: n_train_instances + n_dev_instances]\n",
    "labels_dev = labels.values[n_train_instances: n_train_instances + n_dev_instances]\n",
    "\n",
    "print(\"instances_train:\", instances_train.shape)\n",
    "print(\"labels_train:\", labels_train.shape)\n",
    "print(\"instances_dev:\", instances_dev.shape)\n",
    "print(\"labels_dev:\",labels_dev.shape)"
   ]
  },
  {
   "cell_type": "markdown",
   "id": "f2230529",
   "metadata": {},
   "source": [
    "## Step 3: Initialize variables\n",
    "- **INPUT_SIZE**: The size of the training instances\n",
    "- **OUTPUT_SIZE**: The number of possible classes\n",
    "- **NUM_TRAINING_EXAMPLES**: The number of possible classes\n",
    "- **NUM_DEV_EXAMPLES**: The number of validation/dev test instances"
   ]
  },
  {
   "cell_type": "code",
   "execution_count": 5,
   "id": "30609cf6",
   "metadata": {},
   "outputs": [],
   "source": [
    "INPUT_SIZE = instances_train.shape[1]\n",
    "OUTPUT_SIZE = labels_train.shape[1]\n",
    "NUM_TRAINING_EXAMPLES = int(round(instances_train.shape[0]/1))\n",
    "NUM_DEV_EXAMPLES = int(round(instances_dev.shape[0]/1))"
   ]
  },
  {
   "cell_type": "markdown",
   "id": "863c0f48",
   "metadata": {},
   "source": [
    "## Step 4: Set hyperparameters"
   ]
  },
  {
   "cell_type": "markdown",
   "id": "221c6915",
   "metadata": {},
   "source": [
    "- **LEARNING_RATE** $\\alpha$: The step size in the learning process\n",
    "- **BATCH_SIZE**: The size of each batch\n",
    "- **N_HIDDEN**: Number of neurons in the hidden.\n",
    "\n",
    "The learning process stops when it reaches 20,000 learning iterations. An iteration comprises presenting the network *batch_size* learning examples and then adjusting the weights (parameters)."
   ]
  },
  {
   "cell_type": "code",
   "execution_count": 6,
   "id": "2e6e2b80",
   "metadata": {},
   "outputs": [],
   "source": [
    "N_EPOCHS = 100 # 32,000 it aprox.\n",
    "LEARNING_RATE = 0.1\n",
    "BATCH_SIZE = 512\n",
    "ACTIVATION = \"relu\"\n",
    "N_HIDDEN = [512, 256, 64, 32]\n",
    "LOSS = tf.keras.losses.categorical_crossentropy\n",
    "OPTIMIZER = tf.keras.optimizers.SGD(learning_rate=LEARNING_RATE)\n",
    "METRICS = [\"categorical_accuracy\"]"
   ]
  },
  {
   "cell_type": "markdown",
   "id": "5274f918",
   "metadata": {},
   "source": [
    "## Step 5: Build the model"
   ]
  },
  {
   "cell_type": "code",
   "execution_count": 7,
   "id": "4ebeda28",
   "metadata": {},
   "outputs": [],
   "source": [
    "def test_model():\n",
    "    model = keras.Sequential(name=\"Model\")\n",
    "    model.add(keras.layers.InputLayer(input_shape=(INPUT_SIZE,), batch_size=None))\n",
    "    for neurons in N_HIDDEN:\n",
    "        model.add(keras.layers.Dense(neurons, activation=ACTIVATION))\n",
    "    model.add(keras.layers.Dense(OUTPUT_SIZE, activation=\"softmax\"))\n",
    "    \n",
    "    model_name = \"D512_D256_D64_D32\"\n",
    "    return model, model_name\n",
    "\n",
    "def compile_model(model):\n",
    "    my_model.compile(loss=LOSS,\n",
    "                     optimizer=OPTIMIZER,\n",
    "                     metrics=METRICS)"
   ]
  },
  {
   "cell_type": "code",
   "execution_count": 8,
   "id": "a870ba4e",
   "metadata": {},
   "outputs": [],
   "source": [
    "my_model, model_name = test_model()"
   ]
  },
  {
   "cell_type": "code",
   "execution_count": 9,
   "id": "18b2db20",
   "metadata": {},
   "outputs": [],
   "source": [
    "compile_model(my_model)"
   ]
  },
  {
   "cell_type": "markdown",
   "id": "bebea380",
   "metadata": {},
   "source": [
    "## Step 6: Train the model"
   ]
  },
  {
   "cell_type": "code",
   "execution_count": 10,
   "id": "deedba39",
   "metadata": {},
   "outputs": [
    {
     "name": "stdout",
     "output_type": "stream",
     "text": [
      "Epoch 1/100\n",
      "26/26 [==============================] - 2s 12ms/step - loss: 1.2898 - categorical_accuracy: 0.4676 - val_loss: 1.1607 - val_categorical_accuracy: 0.5571\n",
      "Epoch 2/100\n",
      "26/26 [==============================] - 0s 6ms/step - loss: 1.0282 - categorical_accuracy: 0.5636 - val_loss: 0.8970 - val_categorical_accuracy: 0.6117\n",
      "Epoch 3/100\n",
      "26/26 [==============================] - 0s 6ms/step - loss: 0.7968 - categorical_accuracy: 0.6615 - val_loss: 0.7197 - val_categorical_accuracy: 0.6793\n",
      "Epoch 4/100\n",
      "26/26 [==============================] - 0s 6ms/step - loss: 0.6652 - categorical_accuracy: 0.7164 - val_loss: 0.8036 - val_categorical_accuracy: 0.5999\n",
      "Epoch 5/100\n",
      "26/26 [==============================] - 0s 6ms/step - loss: 0.6630 - categorical_accuracy: 0.6996 - val_loss: 0.7033 - val_categorical_accuracy: 0.6675\n",
      "Epoch 6/100\n",
      "26/26 [==============================] - 0s 6ms/step - loss: 0.5647 - categorical_accuracy: 0.7527 - val_loss: 0.6269 - val_categorical_accuracy: 0.7177\n",
      "Epoch 7/100\n",
      "26/26 [==============================] - 0s 6ms/step - loss: 0.6199 - categorical_accuracy: 0.7188 - val_loss: 0.5697 - val_categorical_accuracy: 0.7407\n",
      "Epoch 8/100\n",
      "26/26 [==============================] - 0s 6ms/step - loss: 0.5771 - categorical_accuracy: 0.7420 - val_loss: 0.5988 - val_categorical_accuracy: 0.7196\n",
      "Epoch 9/100\n",
      "26/26 [==============================] - 0s 6ms/step - loss: 0.5428 - categorical_accuracy: 0.7555 - val_loss: 0.5699 - val_categorical_accuracy: 0.7345\n",
      "Epoch 10/100\n",
      "26/26 [==============================] - 0s 6ms/step - loss: 0.5592 - categorical_accuracy: 0.7546 - val_loss: 0.7792 - val_categorical_accuracy: 0.6476\n",
      "Epoch 11/100\n",
      "26/26 [==============================] - 0s 6ms/step - loss: 0.5166 - categorical_accuracy: 0.7703 - val_loss: 0.5642 - val_categorical_accuracy: 0.7450\n",
      "Epoch 12/100\n",
      "26/26 [==============================] - 0s 6ms/step - loss: 0.5233 - categorical_accuracy: 0.7689 - val_loss: 0.5077 - val_categorical_accuracy: 0.7599\n",
      "Epoch 13/100\n",
      "26/26 [==============================] - 0s 6ms/step - loss: 0.5213 - categorical_accuracy: 0.7704 - val_loss: 0.4868 - val_categorical_accuracy: 0.7854\n",
      "Epoch 14/100\n",
      "26/26 [==============================] - 0s 6ms/step - loss: 0.5027 - categorical_accuracy: 0.7758 - val_loss: 0.5937 - val_categorical_accuracy: 0.7246\n",
      "Epoch 15/100\n",
      "26/26 [==============================] - 0s 6ms/step - loss: 0.4896 - categorical_accuracy: 0.7874 - val_loss: 0.5062 - val_categorical_accuracy: 0.7661\n",
      "Epoch 16/100\n",
      "26/26 [==============================] - 0s 6ms/step - loss: 0.5134 - categorical_accuracy: 0.7787 - val_loss: 0.6139 - val_categorical_accuracy: 0.7227\n",
      "Epoch 17/100\n",
      "26/26 [==============================] - 0s 6ms/step - loss: 0.4745 - categorical_accuracy: 0.7889 - val_loss: 0.4831 - val_categorical_accuracy: 0.7866\n",
      "Epoch 18/100\n",
      "26/26 [==============================] - 0s 6ms/step - loss: 0.4948 - categorical_accuracy: 0.7811 - val_loss: 0.4837 - val_categorical_accuracy: 0.7804\n",
      "Epoch 19/100\n",
      "26/26 [==============================] - 0s 6ms/step - loss: 0.4586 - categorical_accuracy: 0.8007 - val_loss: 0.4847 - val_categorical_accuracy: 0.7742\n",
      "Epoch 20/100\n",
      "26/26 [==============================] - 0s 6ms/step - loss: 0.5148 - categorical_accuracy: 0.7712 - val_loss: 0.4724 - val_categorical_accuracy: 0.7823\n",
      "Epoch 21/100\n",
      "26/26 [==============================] - 0s 6ms/step - loss: 0.4567 - categorical_accuracy: 0.8007 - val_loss: 0.5112 - val_categorical_accuracy: 0.7568\n",
      "Epoch 22/100\n",
      "26/26 [==============================] - 0s 6ms/step - loss: 0.4528 - categorical_accuracy: 0.8026 - val_loss: 0.5646 - val_categorical_accuracy: 0.7667\n",
      "Epoch 23/100\n",
      "26/26 [==============================] - 0s 6ms/step - loss: 0.4756 - categorical_accuracy: 0.7908 - val_loss: 0.5105 - val_categorical_accuracy: 0.7674\n",
      "Epoch 24/100\n",
      "26/26 [==============================] - 0s 6ms/step - loss: 0.4503 - categorical_accuracy: 0.8005 - val_loss: 0.5198 - val_categorical_accuracy: 0.7581\n",
      "Epoch 25/100\n",
      "26/26 [==============================] - 0s 6ms/step - loss: 0.4815 - categorical_accuracy: 0.7873 - val_loss: 0.5087 - val_categorical_accuracy: 0.7692\n",
      "Epoch 26/100\n",
      "26/26 [==============================] - 0s 6ms/step - loss: 0.4452 - categorical_accuracy: 0.8050 - val_loss: 0.4701 - val_categorical_accuracy: 0.7854\n",
      "Epoch 27/100\n",
      "26/26 [==============================] - 0s 6ms/step - loss: 0.4537 - categorical_accuracy: 0.8007 - val_loss: 0.5380 - val_categorical_accuracy: 0.7605\n",
      "Epoch 28/100\n",
      "26/26 [==============================] - 0s 6ms/step - loss: 0.4768 - categorical_accuracy: 0.7858 - val_loss: 0.5837 - val_categorical_accuracy: 0.7376\n",
      "Epoch 29/100\n",
      "26/26 [==============================] - 0s 6ms/step - loss: 0.4733 - categorical_accuracy: 0.7898 - val_loss: 0.4531 - val_categorical_accuracy: 0.7897\n",
      "Epoch 30/100\n",
      "26/26 [==============================] - 0s 6ms/step - loss: 0.4284 - categorical_accuracy: 0.8161 - val_loss: 0.4907 - val_categorical_accuracy: 0.7711\n",
      "Epoch 31/100\n",
      "26/26 [==============================] - 0s 6ms/step - loss: 0.4626 - categorical_accuracy: 0.7984 - val_loss: 0.5225 - val_categorical_accuracy: 0.7667\n",
      "Epoch 32/100\n",
      "26/26 [==============================] - 0s 6ms/step - loss: 0.4602 - categorical_accuracy: 0.7986 - val_loss: 0.4865 - val_categorical_accuracy: 0.7779\n",
      "Epoch 33/100\n",
      "26/26 [==============================] - 0s 6ms/step - loss: 0.4320 - categorical_accuracy: 0.8107 - val_loss: 0.4801 - val_categorical_accuracy: 0.7965\n",
      "Epoch 34/100\n",
      "26/26 [==============================] - 0s 6ms/step - loss: 0.4568 - categorical_accuracy: 0.8010 - val_loss: 0.4517 - val_categorical_accuracy: 0.7984\n",
      "Epoch 35/100\n",
      "26/26 [==============================] - 0s 6ms/step - loss: 0.4389 - categorical_accuracy: 0.8065 - val_loss: 0.4638 - val_categorical_accuracy: 0.7841\n",
      "Epoch 36/100\n",
      "26/26 [==============================] - 0s 6ms/step - loss: 0.4366 - categorical_accuracy: 0.8087 - val_loss: 0.4587 - val_categorical_accuracy: 0.7978\n",
      "Epoch 37/100\n",
      "26/26 [==============================] - 0s 6ms/step - loss: 0.4503 - categorical_accuracy: 0.8027 - val_loss: 0.4778 - val_categorical_accuracy: 0.7860\n",
      "Epoch 38/100\n",
      "26/26 [==============================] - 0s 6ms/step - loss: 0.4380 - categorical_accuracy: 0.8081 - val_loss: 0.6776 - val_categorical_accuracy: 0.7115\n",
      "Epoch 39/100\n",
      "26/26 [==============================] - 0s 6ms/step - loss: 0.4640 - categorical_accuracy: 0.7943 - val_loss: 0.5587 - val_categorical_accuracy: 0.7506\n",
      "Epoch 40/100\n",
      "26/26 [==============================] - 0s 6ms/step - loss: 0.4338 - categorical_accuracy: 0.8103 - val_loss: 0.5024 - val_categorical_accuracy: 0.7711\n",
      "Epoch 41/100\n",
      "26/26 [==============================] - 0s 6ms/step - loss: 0.4338 - categorical_accuracy: 0.8062 - val_loss: 0.5026 - val_categorical_accuracy: 0.7587\n",
      "Epoch 42/100\n",
      "26/26 [==============================] - 0s 6ms/step - loss: 0.4509 - categorical_accuracy: 0.8039 - val_loss: 0.5267 - val_categorical_accuracy: 0.7599\n",
      "Epoch 43/100\n",
      "26/26 [==============================] - 0s 6ms/step - loss: 0.4511 - categorical_accuracy: 0.8016 - val_loss: 0.4788 - val_categorical_accuracy: 0.7754\n",
      "Epoch 44/100\n",
      "26/26 [==============================] - 0s 6ms/step - loss: 0.4224 - categorical_accuracy: 0.8138 - val_loss: 0.4666 - val_categorical_accuracy: 0.7841\n",
      "Epoch 45/100\n",
      "26/26 [==============================] - 0s 6ms/step - loss: 0.4229 - categorical_accuracy: 0.8162 - val_loss: 0.4772 - val_categorical_accuracy: 0.7971\n",
      "Epoch 46/100\n",
      "26/26 [==============================] - 0s 6ms/step - loss: 0.4293 - categorical_accuracy: 0.8120 - val_loss: 0.4384 - val_categorical_accuracy: 0.8127\n",
      "Epoch 47/100\n",
      "26/26 [==============================] - 0s 6ms/step - loss: 0.4180 - categorical_accuracy: 0.8166 - val_loss: 0.5042 - val_categorical_accuracy: 0.7612\n",
      "Epoch 48/100\n",
      "26/26 [==============================] - 0s 6ms/step - loss: 0.4234 - categorical_accuracy: 0.8150 - val_loss: 0.4468 - val_categorical_accuracy: 0.7990\n",
      "Epoch 49/100\n",
      "26/26 [==============================] - 0s 6ms/step - loss: 0.4595 - categorical_accuracy: 0.7964 - val_loss: 0.4985 - val_categorical_accuracy: 0.7680\n",
      "Epoch 50/100\n"
     ]
    },
    {
     "name": "stdout",
     "output_type": "stream",
     "text": [
      "26/26 [==============================] - 0s 6ms/step - loss: 0.4226 - categorical_accuracy: 0.8155 - val_loss: 0.5268 - val_categorical_accuracy: 0.7736\n",
      "Epoch 51/100\n",
      "26/26 [==============================] - 0s 6ms/step - loss: 0.4289 - categorical_accuracy: 0.8137 - val_loss: 0.4690 - val_categorical_accuracy: 0.7723\n",
      "Epoch 52/100\n",
      "26/26 [==============================] - 0s 5ms/step - loss: 0.4471 - categorical_accuracy: 0.8003 - val_loss: 0.4438 - val_categorical_accuracy: 0.8052\n",
      "Epoch 53/100\n",
      "26/26 [==============================] - 0s 6ms/step - loss: 0.4058 - categorical_accuracy: 0.8244 - val_loss: 0.4605 - val_categorical_accuracy: 0.7878\n",
      "Epoch 54/100\n",
      "26/26 [==============================] - 0s 5ms/step - loss: 0.4419 - categorical_accuracy: 0.8042 - val_loss: 0.4387 - val_categorical_accuracy: 0.8046\n",
      "Epoch 55/100\n",
      "26/26 [==============================] - 0s 6ms/step - loss: 0.4094 - categorical_accuracy: 0.8211 - val_loss: 0.4913 - val_categorical_accuracy: 0.7816\n",
      "Epoch 56/100\n",
      "26/26 [==============================] - 0s 6ms/step - loss: 0.4355 - categorical_accuracy: 0.8076 - val_loss: 0.4500 - val_categorical_accuracy: 0.7928\n",
      "Epoch 57/100\n",
      "26/26 [==============================] - 0s 6ms/step - loss: 0.4142 - categorical_accuracy: 0.8183 - val_loss: 0.4377 - val_categorical_accuracy: 0.8071\n",
      "Epoch 58/100\n",
      "26/26 [==============================] - 0s 7ms/step - loss: 0.4205 - categorical_accuracy: 0.8163 - val_loss: 0.4502 - val_categorical_accuracy: 0.7897\n",
      "Epoch 59/100\n",
      "26/26 [==============================] - 0s 7ms/step - loss: 0.4073 - categorical_accuracy: 0.8223 - val_loss: 0.4411 - val_categorical_accuracy: 0.8002\n",
      "Epoch 60/100\n",
      "26/26 [==============================] - 0s 7ms/step - loss: 0.4214 - categorical_accuracy: 0.8166 - val_loss: 0.4623 - val_categorical_accuracy: 0.7897\n",
      "Epoch 61/100\n",
      "26/26 [==============================] - 0s 7ms/step - loss: 0.4345 - categorical_accuracy: 0.8083 - val_loss: 0.4500 - val_categorical_accuracy: 0.7872\n",
      "Epoch 62/100\n",
      "26/26 [==============================] - 0s 7ms/step - loss: 0.4078 - categorical_accuracy: 0.8221 - val_loss: 0.4881 - val_categorical_accuracy: 0.7885\n",
      "Epoch 63/100\n",
      "26/26 [==============================] - 0s 7ms/step - loss: 0.4232 - categorical_accuracy: 0.8134 - val_loss: 0.4799 - val_categorical_accuracy: 0.7835\n",
      "Epoch 64/100\n",
      "26/26 [==============================] - 0s 7ms/step - loss: 0.4151 - categorical_accuracy: 0.8168 - val_loss: 0.5102 - val_categorical_accuracy: 0.7773\n",
      "Epoch 65/100\n",
      "26/26 [==============================] - 0s 7ms/step - loss: 0.4394 - categorical_accuracy: 0.8081 - val_loss: 0.4379 - val_categorical_accuracy: 0.8089\n",
      "Epoch 66/100\n",
      "26/26 [==============================] - 0s 8ms/step - loss: 0.4083 - categorical_accuracy: 0.8220 - val_loss: 0.4458 - val_categorical_accuracy: 0.8027\n",
      "Epoch 67/100\n",
      "26/26 [==============================] - 0s 7ms/step - loss: 0.4101 - categorical_accuracy: 0.8201 - val_loss: 0.4487 - val_categorical_accuracy: 0.8046\n",
      "Epoch 68/100\n",
      "26/26 [==============================] - 0s 7ms/step - loss: 0.4142 - categorical_accuracy: 0.8155 - val_loss: 0.5830 - val_categorical_accuracy: 0.7215\n",
      "Epoch 69/100\n",
      "26/26 [==============================] - 0s 7ms/step - loss: 0.4239 - categorical_accuracy: 0.8150 - val_loss: 0.4432 - val_categorical_accuracy: 0.8046\n",
      "Epoch 70/100\n",
      "26/26 [==============================] - 0s 7ms/step - loss: 0.4361 - categorical_accuracy: 0.8109 - val_loss: 0.4309 - val_categorical_accuracy: 0.8071\n",
      "Epoch 71/100\n",
      "26/26 [==============================] - 0s 7ms/step - loss: 0.3973 - categorical_accuracy: 0.8262 - val_loss: 0.4384 - val_categorical_accuracy: 0.8089\n",
      "Epoch 72/100\n",
      "26/26 [==============================] - 0s 7ms/step - loss: 0.4107 - categorical_accuracy: 0.8179 - val_loss: 0.6285 - val_categorical_accuracy: 0.7320\n",
      "Epoch 73/100\n",
      "26/26 [==============================] - 0s 7ms/step - loss: 0.4237 - categorical_accuracy: 0.8169 - val_loss: 0.4419 - val_categorical_accuracy: 0.8040\n",
      "Epoch 74/100\n",
      "26/26 [==============================] - 0s 7ms/step - loss: 0.4026 - categorical_accuracy: 0.8250 - val_loss: 0.4511 - val_categorical_accuracy: 0.7940\n",
      "Epoch 75/100\n",
      "26/26 [==============================] - 0s 8ms/step - loss: 0.3976 - categorical_accuracy: 0.8281 - val_loss: 0.4456 - val_categorical_accuracy: 0.8046\n",
      "Epoch 76/100\n",
      "26/26 [==============================] - 0s 7ms/step - loss: 0.4071 - categorical_accuracy: 0.8227 - val_loss: 0.5048 - val_categorical_accuracy: 0.7810\n",
      "Epoch 77/100\n",
      "26/26 [==============================] - 0s 7ms/step - loss: 0.4284 - categorical_accuracy: 0.8115 - val_loss: 0.5712 - val_categorical_accuracy: 0.7562\n",
      "Epoch 78/100\n",
      "26/26 [==============================] - 0s 7ms/step - loss: 0.4255 - categorical_accuracy: 0.8122 - val_loss: 0.4449 - val_categorical_accuracy: 0.8046\n",
      "Epoch 79/100\n",
      "26/26 [==============================] - 0s 7ms/step - loss: 0.4058 - categorical_accuracy: 0.8229 - val_loss: 0.5217 - val_categorical_accuracy: 0.7643\n",
      "Epoch 80/100\n",
      "26/26 [==============================] - 0s 8ms/step - loss: 0.4164 - categorical_accuracy: 0.8189 - val_loss: 0.4517 - val_categorical_accuracy: 0.7922\n",
      "Epoch 81/100\n",
      "26/26 [==============================] - 0s 8ms/step - loss: 0.4104 - categorical_accuracy: 0.8192 - val_loss: 0.4327 - val_categorical_accuracy: 0.8065\n",
      "Epoch 82/100\n",
      "26/26 [==============================] - 0s 9ms/step - loss: 0.3929 - categorical_accuracy: 0.8303 - val_loss: 0.4391 - val_categorical_accuracy: 0.8083\n",
      "Epoch 83/100\n",
      "26/26 [==============================] - 0s 9ms/step - loss: 0.4122 - categorical_accuracy: 0.8222 - val_loss: 0.5246 - val_categorical_accuracy: 0.7599\n",
      "Epoch 84/100\n",
      "26/26 [==============================] - 0s 8ms/step - loss: 0.4132 - categorical_accuracy: 0.8186 - val_loss: 0.4357 - val_categorical_accuracy: 0.8089\n",
      "Epoch 85/100\n",
      "26/26 [==============================] - 0s 8ms/step - loss: 0.3912 - categorical_accuracy: 0.8296 - val_loss: 0.4410 - val_categorical_accuracy: 0.8040\n",
      "Epoch 86/100\n",
      "26/26 [==============================] - 0s 8ms/step - loss: 0.4037 - categorical_accuracy: 0.8204 - val_loss: 0.4778 - val_categorical_accuracy: 0.7897\n",
      "Epoch 87/100\n",
      "26/26 [==============================] - 0s 7ms/step - loss: 0.3992 - categorical_accuracy: 0.8249 - val_loss: 0.5057 - val_categorical_accuracy: 0.7655\n",
      "Epoch 88/100\n",
      "26/26 [==============================] - 0s 8ms/step - loss: 0.4029 - categorical_accuracy: 0.8227 - val_loss: 0.5429 - val_categorical_accuracy: 0.7605\n",
      "Epoch 89/100\n",
      "26/26 [==============================] - 0s 7ms/step - loss: 0.4105 - categorical_accuracy: 0.8220 - val_loss: 0.4474 - val_categorical_accuracy: 0.7996\n",
      "Epoch 90/100\n",
      "26/26 [==============================] - 0s 8ms/step - loss: 0.3880 - categorical_accuracy: 0.8309 - val_loss: 0.4542 - val_categorical_accuracy: 0.7971\n",
      "Epoch 91/100\n",
      "26/26 [==============================] - 0s 7ms/step - loss: 0.3901 - categorical_accuracy: 0.8291 - val_loss: 0.4860 - val_categorical_accuracy: 0.7860\n",
      "Epoch 92/100\n",
      "26/26 [==============================] - 0s 8ms/step - loss: 0.4205 - categorical_accuracy: 0.8172 - val_loss: 0.6534 - val_categorical_accuracy: 0.7115\n",
      "Epoch 93/100\n",
      "26/26 [==============================] - 0s 9ms/step - loss: 0.3999 - categorical_accuracy: 0.8275 - val_loss: 0.4649 - val_categorical_accuracy: 0.7947\n",
      "Epoch 94/100\n",
      "26/26 [==============================] - 0s 9ms/step - loss: 0.4107 - categorical_accuracy: 0.8216 - val_loss: 0.4672 - val_categorical_accuracy: 0.7878\n",
      "Epoch 95/100\n",
      "26/26 [==============================] - 0s 9ms/step - loss: 0.4167 - categorical_accuracy: 0.8177 - val_loss: 0.4923 - val_categorical_accuracy: 0.7779\n",
      "Epoch 96/100\n",
      "26/26 [==============================] - 0s 9ms/step - loss: 0.4096 - categorical_accuracy: 0.8175 - val_loss: 0.5108 - val_categorical_accuracy: 0.7630\n",
      "Epoch 97/100\n",
      "26/26 [==============================] - 0s 9ms/step - loss: 0.4005 - categorical_accuracy: 0.8244 - val_loss: 0.4485 - val_categorical_accuracy: 0.8015\n",
      "Epoch 98/100\n",
      "26/26 [==============================] - 0s 8ms/step - loss: 0.3999 - categorical_accuracy: 0.8254 - val_loss: 0.4507 - val_categorical_accuracy: 0.8033\n",
      "Epoch 99/100\n"
     ]
    },
    {
     "name": "stdout",
     "output_type": "stream",
     "text": [
      "26/26 [==============================] - 0s 7ms/step - loss: 0.3898 - categorical_accuracy: 0.8283 - val_loss: 0.4842 - val_categorical_accuracy: 0.7909\n",
      "Epoch 100/100\n",
      "26/26 [==============================] - 0s 7ms/step - loss: 0.3917 - categorical_accuracy: 0.8307 - val_loss: 0.4316 - val_categorical_accuracy: 0.8102\n"
     ]
    }
   ],
   "source": [
    "start_time = time.perf_counter()\n",
    "history = my_model.fit(instances_train,\n",
    "                       labels_train,\n",
    "                       batch_size=BATCH_SIZE,\n",
    "                       epochs=N_EPOCHS,\n",
    "                       verbose=1,\n",
    "                       validation_data=(instances_dev, labels_dev))\n",
    "end_time = time.perf_counter()"
   ]
  },
  {
   "cell_type": "markdown",
   "id": "1cb247d4",
   "metadata": {},
   "source": [
    "## Step 7: Analyze results"
   ]
  },
  {
   "cell_type": "code",
   "execution_count": 11,
   "id": "c6ded72c",
   "metadata": {
    "scrolled": true
   },
   "outputs": [
    {
     "data": {
      "image/png": "[encoded data removed]",
      "text/plain": [
       "<Figure size 800x500 with 1 Axes>"
      ]
     },
     "metadata": {},
     "output_type": "display_data"
    }
   ],
   "source": [
    "results=pd.DataFrame(history.history)\n",
    "results.plot(figsize=(8, 5))\n",
    "plt.grid(True)\n",
    "plt.xlabel (\"Epochs\")\n",
    "plt.ylabel (\"Accuracy - Mean Log Loss\")\n",
    "plt.gca().set_ylim(0, 1) # set the vertical range to [0-1]\n",
    "plt.show()"
   ]
  },
  {
   "cell_type": "code",
   "execution_count": 12,
   "id": "4116beda",
   "metadata": {},
   "outputs": [
    {
     "name": "stdout",
     "output_type": "stream",
     "text": [
      "Error (training): 16.9 %\n",
      "Error (test): 19.0 %\n",
      "Bias: 11.9\n",
      "Variance: 2.1\n",
      "Time:  19 seconds\n"
     ]
    }
   ],
   "source": [
    "training_error = round((1 - results.categorical_accuracy.values[-1:][0])*100, 1)\n",
    "test_error = round((1 - results.val_categorical_accuracy.values[-1:][0])*100, 1)\n",
    "human_error = 5\n",
    "bias = round(training_error - human_error, 2)\n",
    "variance = round(test_error - training_error, 2)\n",
    "training_time = round(end_time - start_time)\n",
    "print(\"Error (training):\", training_error, \"%\")\n",
    "print(\"Error (test):\", test_error, \"%\")\n",
    "print(\"Bias:\", bias)\n",
    "print(\"Variance:\", variance)\n",
    "print(\"Time: \", training_time, \"seconds\")"
   ]
  },
  {
   "cell_type": "markdown",
   "id": "45339865",
   "metadata": {},
   "source": [
    "## Step 8: Save results"
   ]
  },
  {
   "cell_type": "code",
   "execution_count": 13,
   "id": "101d1d79",
   "metadata": {},
   "outputs": [],
   "source": [
    "RESULTS_FOLDER = \"../Results\"\n",
    "RESULTS_FILE = f\"{RESULTS_FOLDER}/models_performance.csv\""
   ]
  },
  {
   "cell_type": "code",
   "execution_count": 14,
   "id": "a193a94e",
   "metadata": {},
   "outputs": [],
   "source": [
    "results_df = pd.read_csv(RESULTS_FILE, index_col = 0)"
   ]
  },
  {
   "cell_type": "code",
   "execution_count": 15,
   "id": "672b22bd",
   "metadata": {},
   "outputs": [],
   "source": [
    "COLUMNS = [\n",
    "    'model_name',\n",
    "    'epochs',\n",
    "    'learning_rate',\n",
    "    'batch_size',\n",
    "    'activation',\n",
    "    'loss',\n",
    "    'optimizer',\n",
    "    'regularization',\n",
    "    'train_error',\n",
    "    'validation_error',\n",
    "    'bias',\n",
    "    'variance',\n",
    "    'training_time'\n",
    "]\n",
    "\n",
    "new_result = [[\n",
    "    model_name,\n",
    "    N_EPOCHS,\n",
    "    LEARNING_RATE,\n",
    "    BATCH_SIZE,\n",
    "    ACTIVATION,\n",
    "    \"categorical_crossentropy\",\n",
    "    \"SGD\",\n",
    "    \"\",\n",
    "    training_error,\n",
    "    test_error,\n",
    "    bias,\n",
    "    variance,\n",
    "    training_time]]\n",
    "\n",
    "new_result_df = pd.DataFrame(new_result, columns=COLUMNS)\n",
    "concatenation = pd.concat([results_df, new_result_df], ignore_index=True)\n",
    "concatenation.to_csv(RESULTS_FILE)"
   ]
  },
  {
   "cell_type": "code",
   "execution_count": 16,
   "id": "a34789ec",
   "metadata": {},
   "outputs": [
    {
     "data": {
      "text/html": [
       "<div>\n",
       "<style scoped>\n",
       "    .dataframe tbody tr th:only-of-type {\n",
       "        vertical-align: middle;\n",
       "    }\n",
       "\n",
       "    .dataframe tbody tr th {\n",
       "        vertical-align: top;\n",
       "    }\n",
       "\n",
       "    .dataframe thead th {\n",
       "        text-align: right;\n",
       "    }\n",
       "</style>\n",
       "<table border=\"1\" class=\"dataframe\">\n",
       "  <thead>\n",
       "    <tr style=\"text-align: right;\">\n",
       "      <th></th>\n",
       "      <th>model_name</th>\n",
       "      <th>epochs</th>\n",
       "      <th>learning_rate</th>\n",
       "      <th>batch_size</th>\n",
       "      <th>activation</th>\n",
       "      <th>loss</th>\n",
       "      <th>optimizer</th>\n",
       "      <th>regularization</th>\n",
       "      <th>train_error</th>\n",
       "      <th>validation_error</th>\n",
       "      <th>bias</th>\n",
       "      <th>variance</th>\n",
       "      <th>training_time</th>\n",
       "    </tr>\n",
       "  </thead>\n",
       "  <tbody>\n",
       "    <tr>\n",
       "      <th>0</th>\n",
       "      <td>D512_D256_D64_D32</td>\n",
       "      <td>100</td>\n",
       "      <td>0.1</td>\n",
       "      <td>512</td>\n",
       "      <td>relu</td>\n",
       "      <td>categorical_crossentropy</td>\n",
       "      <td>SGD</td>\n",
       "      <td>NaN</td>\n",
       "      <td>16.4</td>\n",
       "      <td>23.1</td>\n",
       "      <td>11.4</td>\n",
       "      <td>6.7</td>\n",
       "      <td>19</td>\n",
       "    </tr>\n",
       "    <tr>\n",
       "      <th>1</th>\n",
       "      <td>D512_D256_D64_D32</td>\n",
       "      <td>100</td>\n",
       "      <td>0.1</td>\n",
       "      <td>512</td>\n",
       "      <td>relu</td>\n",
       "      <td>categorical_crossentropy</td>\n",
       "      <td>SGD</td>\n",
       "      <td>None</td>\n",
       "      <td>16.9</td>\n",
       "      <td>19.0</td>\n",
       "      <td>11.9</td>\n",
       "      <td>2.1</td>\n",
       "      <td>19</td>\n",
       "    </tr>\n",
       "  </tbody>\n",
       "</table>\n",
       "</div>"
      ],
      "text/plain": [
       "          model_name  epochs  learning_rate  batch_size activation  \\\n",
       "0  D512_D256_D64_D32     100            0.1         512       relu   \n",
       "1  D512_D256_D64_D32     100            0.1         512       relu   \n",
       "\n",
       "                       loss optimizer regularization  train_error  \\\n",
       "0  categorical_crossentropy       SGD            NaN         16.4   \n",
       "1  categorical_crossentropy       SGD           None         16.9   \n",
       "\n",
       "   validation_error  bias  variance  training_time  \n",
       "0              23.1  11.4       6.7             19  \n",
       "1              19.0  11.9       2.1             19  "
      ]
     },
     "execution_count": 16,
     "metadata": {},
     "output_type": "execute_result"
    }
   ],
   "source": [
    "concatenation.head()"
   ]
  },
  {
   "cell_type": "code",
   "execution_count": null,
   "id": "55220e57",
   "metadata": {},
   "outputs": [],
   "source": []
  }
 ],
 "metadata": {
  "kernelspec": {
   "display_name": "Python 3 (ipykernel)",
   "language": "python",
   "name": "python3"
  },
  "language_info": {
   "codemirror_mode": {
    "name": "ipython",
    "version": 3
   },
   "file_extension": ".py",
   "mimetype": "text/x-python",
   "name": "python",
   "nbconvert_exporter": "python",
   "pygments_lexer": "ipython3",
   "version": "3.10.4"
  }
 },
 "nbformat": 4,
 "nbformat_minor": 5
}
